{
 "cells": [
  {
   "cell_type": "markdown",
   "metadata": {},
   "source": [
    "### Import Packages"
   ]
  },
  {
   "cell_type": "code",
   "execution_count": 1,
   "metadata": {
    "collapsed": true
   },
   "outputs": [],
   "source": [
    "import os\n",
    "import pyodbc\n",
    "import numpy as np\n",
    "import pandas as pd\n",
    "import seaborn as sns\n",
    "from datetime import datetime\n",
    "import matplotlib.pyplot as plt\n",
    "%matplotlib inline"
   ]
  },
  {
   "cell_type": "markdown",
   "metadata": {},
   "source": [
    "### Import Data"
   ]
  },
  {
   "cell_type": "markdown",
   "metadata": {},
   "source": [
    "#### `IM_I_IDWBRRESULTS_S.dbo.MA_PP_PFMHIST`"
   ]
  },
  {
   "cell_type": "code",
   "execution_count": 2,
   "metadata": {
    "collapsed": true
   },
   "outputs": [],
   "source": [
    "cnxn = pyodbc.connect('Driver={SQL Server Native Client 11.0};\\\n",
    "                       Server=lasr-sqldb-prd-im,17001;\\\n",
    "                       Database=IM_I_IDWBRRESULTS_S;\\\n",
    "                       Trusted_Connection=yes;')"
   ]
  },
  {
   "cell_type": "code",
   "execution_count": null,
   "metadata": {
    "collapsed": true,
    "scrolled": true
   },
   "outputs": [],
   "source": [
    "sql_query = \"\"\"\n",
    "select \n",
    "    aggrid, postdt, incltyp, rtntyp,\n",
    "    totrtn1mo, totrtn3mo, totrtn6mo, totrtn12mo\n",
    "from \n",
    "    IM_I_IDWBRRESULTS_S.dbo.MA_PP_PFMHIST\n",
    "where \n",
    "    incltyp = 'I' and crncyid = 1\n",
    "\n",
    "    \n",
    "\"\"\"\n",
    "\n",
    "data = pd.read_sql(sql_query, cnxn)\n",
    "data.head()"
   ]
  },
  {
   "cell_type": "markdown",
   "metadata": {},
   "source": [
    "### Exploratory Data Analysis"
   ]
  },
  {
   "cell_type": "code",
   "execution_count": null,
   "metadata": {
    "collapsed": true,
    "scrolled": true
   },
   "outputs": [],
   "source": [
    "date_range = list(sorted(data['postdt'].unique()))\n",
    "print(\"StartDate:\", min(date_range))\n",
    "print(\"EndDate:\", max(date_range))"
   ]
  },
  {
   "cell_type": "code",
   "execution_count": null,
   "metadata": {
    "collapsed": true
   },
   "outputs": [],
   "source": [
    "data.shape"
   ]
  },
  {
   "cell_type": "code",
   "execution_count": null,
   "metadata": {
    "collapsed": true
   },
   "outputs": [],
   "source": [
    "data.info()"
   ]
  },
  {
   "cell_type": "code",
   "execution_count": null,
   "metadata": {
    "collapsed": true
   },
   "outputs": [],
   "source": [
    "data.describe()"
   ]
  },
  {
   "cell_type": "markdown",
   "metadata": {},
   "source": [
    "### Data Preprocessing"
   ]
  },
  {
   "cell_type": "code",
   "execution_count": null,
   "metadata": {
    "collapsed": true
   },
   "outputs": [],
   "source": [
    "def align_values(row):\n",
    "    if row['rtntyp'] == 'M':\n",
    "        return row['totrtn1mo']\n",
    "    elif row['rtntyp'] == 'Q':\n",
    "        return row['totrtn3mo']\n",
    "    elif row['rtntyp'] == 'S':\n",
    "        return row['totrtn6mo']\n",
    "    elif row['rtntyp'] == 'A':\n",
    "        return row['totrtn12mo']\n",
    "    else:\n",
    "        return np.nan"
   ]
  },
  {
   "cell_type": "code",
   "execution_count": null,
   "metadata": {
    "collapsed": true
   },
   "outputs": [],
   "source": [
    "# Data cleaning\n",
    "data['rtntyp_values'] = data.apply(lambda x: align_values(x), axis=1)\n",
    "data = data[['aggrid', 'postdt', 'rtntyp', 'rtntyp_values']]\n",
    "data = data.sort_values('postdt')\n",
    "\n",
    "# Drop rows with NULL values\n",
    "data = data.dropna(axis=0)"
   ]
  },
  {
   "cell_type": "code",
   "execution_count": null,
   "metadata": {
    "collapsed": true
   },
   "outputs": [],
   "source": [
    "# # Not using the 'rtntyp_values' column\n",
    "# new_df = data[['aggrid','postdt', 'rtntyp']]\n",
    "\n",
    "new_df = data"
   ]
  },
  {
   "cell_type": "code",
   "execution_count": null,
   "metadata": {
    "collapsed": true
   },
   "outputs": [],
   "source": [
    "new_aggrid_list = []\n",
    "new_date_list = []\n",
    "new_rtntyp_list = []\n",
    "new_rtntyp_values_list = []\n",
    "\n",
    "for aggrid, date, rtntyp, rtntyp_value in new_df.itertuples(index=False):\n",
    "    if rtntyp == 'A':\n",
    "        for d in pd.date_range(end=date, periods=12, freq='MS'):\n",
    "            new_aggrid_list.append(aggrid)\n",
    "            new_date_list.append(d)\n",
    "            new_rtntyp_list.append(rtntyp)\n",
    "            new_rtntyp_values_list.append(rtntyp_value)\n",
    "    if rtntyp == 'S':\n",
    "        for d in pd.date_range(end=date, periods=6, freq='MS'):\n",
    "            new_aggrid_list.append(aggrid)\n",
    "            new_date_list.append(d)\n",
    "            new_rtntyp_list.append(rtntyp)\n",
    "            new_rtntyp_values_list.append(rtntyp_value)\n",
    "    if rtntyp == 'Q':\n",
    "        for d in pd.date_range(end=date, periods=3, freq='MS'):\n",
    "            new_aggrid_list.append(aggrid)\n",
    "            new_date_list.append(d)\n",
    "            new_rtntyp_list.append(rtntyp)\n",
    "            new_rtntyp_values_list.append(rtntyp_value)\n",
    "    if rtntyp == 'M':\n",
    "        new_aggrid_list.append(aggrid)\n",
    "        new_date_list.append(date.replace(day=1))\n",
    "        new_rtntyp_list.append(rtntyp)\n",
    "        new_rtntyp_values_list.append(rtntyp_value)"
   ]
  },
  {
   "cell_type": "markdown",
   "metadata": {},
   "source": [
    "### Final Dataframe for Visualization"
   ]
  },
  {
   "cell_type": "code",
   "execution_count": null,
   "metadata": {
    "collapsed": true,
    "scrolled": true
   },
   "outputs": [],
   "source": [
    "new_df = pd.DataFrame(columns=['aggrid_new', 'postdt_new', 'rtntyp_new', 'rtntyp_value_new'])\n",
    "new_df['aggrid_new'] = new_aggrid_list\n",
    "new_df['postdt_new'] = new_date_list\n",
    "new_df['rtntyp_new'] = new_rtntyp_list\n",
    "new_df['rtntyp_value_new'] = new_rtntyp_values_list\n",
    "new_df.head()"
   ]
  },
  {
   "cell_type": "code",
   "execution_count": null,
   "metadata": {
    "collapsed": true
   },
   "outputs": [],
   "source": [
    "new_df.tail()"
   ]
  },
  {
   "cell_type": "markdown",
   "metadata": {},
   "source": [
    "#### Pivot Table for Visualization"
   ]
  },
  {
   "cell_type": "code",
   "execution_count": null,
   "metadata": {
    "collapsed": true
   },
   "outputs": [],
   "source": [
    "pivot_new_df = pd.pivot_table(new_df, index=['rtntyp_new'], \n",
    "                                      columns=['postdt_new'], \n",
    "                                      values='rtntyp_value_new', \n",
    "                                      aggfunc='count', fill_value=0)\n",
    "\n",
    "pivot_new_df"
   ]
  },
  {
   "cell_type": "markdown",
   "metadata": {},
   "source": [
    "### Visualization"
   ]
  },
  {
   "cell_type": "code",
   "execution_count": null,
   "metadata": {
    "collapsed": true
   },
   "outputs": [],
   "source": [
    "plt.style.use('fivethirtyeight')\n",
    "\n",
    "# Graph\n",
    "fig = plt.figure(figsize=(20,12))\n",
    "plt.stackplot(pivot_new_df.columns, pivot_new_df.values, labels=pivot_new_df.index)\n",
    "\n",
    "# Labels\n",
    "plt.title('Historical Availability of Portfolios by Frequency Type \\n')\n",
    "plt.xlabel('\\n Years')\n",
    "plt.ylabel('Count of Portfolios \\n')\n",
    "plt.legend(loc='upper left')\n",
    "plt.show()"
   ]
  },
  {
   "cell_type": "markdown",
   "metadata": {},
   "source": [
    "### Export to Excel"
   ]
  },
  {
   "cell_type": "code",
   "execution_count": null,
   "metadata": {
    "collapsed": true
   },
   "outputs": [],
   "source": [
    "#new_df.to_csv('final_df.csv')"
   ]
  },
  {
   "cell_type": "code",
   "execution_count": null,
   "metadata": {
    "collapsed": true
   },
   "outputs": [],
   "source": []
  },
  {
   "cell_type": "code",
   "execution_count": null,
   "metadata": {
    "collapsed": true
   },
   "outputs": [],
   "source": []
  },
  {
   "cell_type": "code",
   "execution_count": null,
   "metadata": {
    "collapsed": true
   },
   "outputs": [],
   "source": []
  },
  {
   "cell_type": "code",
   "execution_count": null,
   "metadata": {
    "collapsed": true
   },
   "outputs": [],
   "source": []
  },
  {
   "cell_type": "code",
   "execution_count": null,
   "metadata": {
    "collapsed": true
   },
   "outputs": [],
   "source": []
  },
  {
   "cell_type": "code",
   "execution_count": null,
   "metadata": {
    "collapsed": true
   },
   "outputs": [],
   "source": []
  },
  {
   "cell_type": "code",
   "execution_count": null,
   "metadata": {
    "collapsed": true
   },
   "outputs": [],
   "source": []
  },
  {
   "cell_type": "code",
   "execution_count": null,
   "metadata": {
    "collapsed": true
   },
   "outputs": [],
   "source": []
  },
  {
   "cell_type": "code",
   "execution_count": null,
   "metadata": {
    "collapsed": true
   },
   "outputs": [],
   "source": []
  },
  {
   "cell_type": "code",
   "execution_count": null,
   "metadata": {
    "collapsed": true
   },
   "outputs": [],
   "source": []
  },
  {
   "cell_type": "code",
   "execution_count": null,
   "metadata": {
    "collapsed": true
   },
   "outputs": [],
   "source": []
  },
  {
   "cell_type": "code",
   "execution_count": null,
   "metadata": {
    "collapsed": true
   },
   "outputs": [],
   "source": []
  },
  {
   "cell_type": "code",
   "execution_count": null,
   "metadata": {
    "collapsed": true
   },
   "outputs": [],
   "source": []
  },
  {
   "cell_type": "code",
   "execution_count": null,
   "metadata": {
    "collapsed": true
   },
   "outputs": [],
   "source": []
  }
 ],
 "metadata": {
  "kernelspec": {
   "display_name": "Python 3",
   "language": "python",
   "name": "python3"
  },
  "language_info": {
   "codemirror_mode": {
    "name": "ipython",
    "version": 3
   },
   "file_extension": ".py",
   "mimetype": "text/x-python",
   "name": "python",
   "nbconvert_exporter": "python",
   "pygments_lexer": "ipython3",
   "version": "3.6.1"
  }
 },
 "nbformat": 4,
 "nbformat_minor": 2
}
