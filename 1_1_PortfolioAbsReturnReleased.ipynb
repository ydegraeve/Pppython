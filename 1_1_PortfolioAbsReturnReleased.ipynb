{
 "cells": [
  {
   "cell_type": "markdown",
   "metadata": {},
   "source": [
    "### Import Packages"
   ]
  },
  {
   "cell_type": "code",
   "execution_count": 1,
   "metadata": {
    "collapsed": true
   },
   "outputs": [],
   "source": [
    "import os\n",
    "import pyodbc\n",
    "import numpy as np\n",
    "import pandas as pd\n",
    "import seaborn as sns\n",
    "from datetime import datetime\n",
    "import matplotlib.pyplot as plt\n",
    "%matplotlib inline"
   ]
  },
  {
   "cell_type": "markdown",
   "metadata": {},
   "source": [
    "### Import Data"
   ]
  },
  {
   "cell_type": "markdown",
   "metadata": {},
   "source": [
    "#### `IM_I_RESULTSRELEASED_S.dbo.PortfolioAbsReturnReleased`"
   ]
  },
  {
   "cell_type": "code",
   "execution_count": 6,
   "metadata": {
    "collapsed": true
   },
   "outputs": [],
   "source": [
    "cnxn = pyodbc.connect('Driver={SQL Server Native Client 11.0};\\\n",
    "                       Server=lasr-sqldb-prd-im,17001;\\\n",
    "                       Database=IM_I_RESULTSRELEASED_S;\\\n",
    "                       Trusted_Connection=yes;')"
   ]
  },
  {
   "cell_type": "code",
   "execution_count": 7,
   "metadata": {
    "collapsed": true
   },
   "outputs": [],
   "source": [
    "sql_query = \"\"\"\n",
    "select\n",
    "    A.PortfolioUID as PID, \n",
    "\tB.PeriodTypeCode as periodtype,\n",
    "    A.PortfolioGrossCumulativeReturn as rtnpct,\n",
    "    A.CalcPeriodEndDate as POSTDT\n",
    "from \n",
    "    IM_I_RESULTSRELEASED_S.dbo.PortfolioAbsReturnReleased as A\n",
    "  left join\n",
    "    IM_I_RESULTSRELEASED_S.dbo.periodtype as B\n",
    "  on A.DWPeriodTypeID = B.DWPeriodTypeID\n",
    "where\n",
    "    A.CurrencyUID = 1 and A.feetypeuid in (0, -9999999999) and A.PortfolioGrossCumulativeReturn is not NULL    \n",
    "\"\"\"\n",
    "\n",
    "# Save the data \n",
    "data = pd.read_sql(sql_query, cnxn)\n",
    "\n",
    "# Close the connection with LASR\n",
    "cnxn.close()\n"
   ]
  },
  {
   "cell_type": "code",
   "execution_count": 8,
   "metadata": {
    "collapsed": true
   },
   "outputs": [
    {
     "name": "stdout",
     "output_type": "stream",
     "text": [
      "(375666, 4)\n"
     ]
    },
    {
     "data": {
      "text/html": [
       "<div>\n",
       "<style>\n",
       "    .dataframe thead tr:only-child th {\n",
       "        text-align: right;\n",
       "    }\n",
       "\n",
       "    .dataframe thead th {\n",
       "        text-align: left;\n",
       "    }\n",
       "\n",
       "    .dataframe tbody tr th {\n",
       "        vertical-align: top;\n",
       "    }\n",
       "</style>\n",
       "<table border=\"1\" class=\"dataframe\">\n",
       "  <thead>\n",
       "    <tr style=\"text-align: right;\">\n",
       "      <th></th>\n",
       "      <th>PID</th>\n",
       "      <th>periodtype</th>\n",
       "      <th>rtnpct</th>\n",
       "      <th>POSTDT</th>\n",
       "    </tr>\n",
       "  </thead>\n",
       "  <tbody>\n",
       "    <tr>\n",
       "      <th>0</th>\n",
       "      <td>301224</td>\n",
       "      <td>3MO</td>\n",
       "      <td>0.028709</td>\n",
       "      <td>2017-07-31</td>\n",
       "    </tr>\n",
       "    <tr>\n",
       "      <th>1</th>\n",
       "      <td>301220</td>\n",
       "      <td>6MO</td>\n",
       "      <td>0.023262</td>\n",
       "      <td>2017-06-30</td>\n",
       "    </tr>\n",
       "    <tr>\n",
       "      <th>2</th>\n",
       "      <td>301226</td>\n",
       "      <td>3MO</td>\n",
       "      <td>0.021212</td>\n",
       "      <td>2017-06-30</td>\n",
       "    </tr>\n",
       "    <tr>\n",
       "      <th>3</th>\n",
       "      <td>301223</td>\n",
       "      <td>QTD</td>\n",
       "      <td>0.011300</td>\n",
       "      <td>2017-07-31</td>\n",
       "    </tr>\n",
       "    <tr>\n",
       "      <th>4</th>\n",
       "      <td>298872</td>\n",
       "      <td>YTD</td>\n",
       "      <td>0.158234</td>\n",
       "      <td>2017-10-31</td>\n",
       "    </tr>\n",
       "  </tbody>\n",
       "</table>\n",
       "</div>"
      ],
      "text/plain": [
       "      PID periodtype    rtnpct      POSTDT\n",
       "0  301224        3MO  0.028709  2017-07-31\n",
       "1  301220        6MO  0.023262  2017-06-30\n",
       "2  301226        3MO  0.021212  2017-06-30\n",
       "3  301223        QTD  0.011300  2017-07-31\n",
       "4  298872        YTD  0.158234  2017-10-31"
      ]
     },
     "execution_count": 8,
     "metadata": {},
     "output_type": "execute_result"
    }
   ],
   "source": [
    "print(data.shape)\n",
    "data.head()"
   ]
  },
  {
   "cell_type": "markdown",
   "metadata": {},
   "source": [
    "### Data Preprocessing"
   ]
  },
  {
   "cell_type": "code",
   "execution_count": 10,
   "metadata": {},
   "outputs": [
    {
     "data": {
      "text/html": [
       "<div>\n",
       "<style>\n",
       "    .dataframe thead tr:only-child th {\n",
       "        text-align: right;\n",
       "    }\n",
       "\n",
       "    .dataframe thead th {\n",
       "        text-align: left;\n",
       "    }\n",
       "\n",
       "    .dataframe tbody tr th {\n",
       "        vertical-align: top;\n",
       "    }\n",
       "</style>\n",
       "<table border=\"1\" class=\"dataframe\">\n",
       "  <thead>\n",
       "    <tr style=\"text-align: right;\">\n",
       "      <th></th>\n",
       "      <th>PID</th>\n",
       "      <th>periodtype</th>\n",
       "      <th>rtnpct</th>\n",
       "      <th>POSTDT</th>\n",
       "      <th>postdt_new</th>\n",
       "    </tr>\n",
       "  </thead>\n",
       "  <tbody>\n",
       "    <tr>\n",
       "      <th>0</th>\n",
       "      <td>301224</td>\n",
       "      <td>3MO</td>\n",
       "      <td>0.028709</td>\n",
       "      <td>2017-07-31</td>\n",
       "      <td>2017-07-01</td>\n",
       "    </tr>\n",
       "    <tr>\n",
       "      <th>1</th>\n",
       "      <td>301220</td>\n",
       "      <td>6MO</td>\n",
       "      <td>0.023262</td>\n",
       "      <td>2017-06-30</td>\n",
       "      <td>2017-06-01</td>\n",
       "    </tr>\n",
       "    <tr>\n",
       "      <th>2</th>\n",
       "      <td>301226</td>\n",
       "      <td>3MO</td>\n",
       "      <td>0.021212</td>\n",
       "      <td>2017-06-30</td>\n",
       "      <td>2017-06-01</td>\n",
       "    </tr>\n",
       "    <tr>\n",
       "      <th>3</th>\n",
       "      <td>301223</td>\n",
       "      <td>QTD</td>\n",
       "      <td>0.011300</td>\n",
       "      <td>2017-07-31</td>\n",
       "      <td>2017-07-01</td>\n",
       "    </tr>\n",
       "    <tr>\n",
       "      <th>4</th>\n",
       "      <td>298872</td>\n",
       "      <td>YTD</td>\n",
       "      <td>0.158234</td>\n",
       "      <td>2017-10-31</td>\n",
       "      <td>2017-10-01</td>\n",
       "    </tr>\n",
       "  </tbody>\n",
       "</table>\n",
       "</div>"
      ],
      "text/plain": [
       "      PID periodtype    rtnpct      POSTDT  postdt_new\n",
       "0  301224        3MO  0.028709  2017-07-31  2017-07-01\n",
       "1  301220        6MO  0.023262  2017-06-30  2017-06-01\n",
       "2  301226        3MO  0.021212  2017-06-30  2017-06-01\n",
       "3  301223        QTD  0.011300  2017-07-31  2017-07-01\n",
       "4  298872        YTD  0.158234  2017-10-31  2017-10-01"
      ]
     },
     "execution_count": 10,
     "metadata": {},
     "output_type": "execute_result"
    }
   ],
   "source": [
    "data['postdt_new'] = data['POSTDT'].apply(lambda dt: dt.replace(day=1))\n",
    "data.head()"
   ]
  },
  {
   "cell_type": "code",
   "execution_count": 13,
   "metadata": {},
   "outputs": [
    {
     "data": {
      "text/plain": [
       "(375666, 5)"
      ]
     },
     "execution_count": 13,
     "metadata": {},
     "output_type": "execute_result"
    }
   ],
   "source": [
    "data.shape"
   ]
  },
  {
   "cell_type": "code",
   "execution_count": 30,
   "metadata": {},
   "outputs": [
    {
     "data": {
      "text/plain": [
       "PID           375666\n",
       "periodtype    375666\n",
       "rtnpct        375666\n",
       "POSTDT        375666\n",
       "postdt_new    375666\n",
       "dtype: int64"
      ]
     },
     "execution_count": 30,
     "metadata": {},
     "output_type": "execute_result"
    }
   ],
   "source": [
    "#check no duplicate records\n",
    "data.drop_duplicates(subset=['PID', 'periodtype', 'postdt_new'], keep='first', inplace=False).count()"
   ]
  },
  {
   "cell_type": "code",
   "execution_count": 33,
   "metadata": {},
   "outputs": [
    {
     "name": "stdout",
     "output_type": "stream",
     "text": [
      "(14014, 3)\n"
     ]
    },
    {
     "data": {
      "text/html": [
       "<div>\n",
       "<style>\n",
       "    .dataframe thead tr:only-child th {\n",
       "        text-align: right;\n",
       "    }\n",
       "\n",
       "    .dataframe thead th {\n",
       "        text-align: left;\n",
       "    }\n",
       "\n",
       "    .dataframe tbody tr th {\n",
       "        vertical-align: top;\n",
       "    }\n",
       "</style>\n",
       "<table border=\"1\" class=\"dataframe\">\n",
       "  <thead>\n",
       "    <tr style=\"text-align: right;\">\n",
       "      <th></th>\n",
       "      <th>postdt_new</th>\n",
       "      <th>periodtype</th>\n",
       "      <th>count_PID</th>\n",
       "    </tr>\n",
       "  </thead>\n",
       "  <tbody>\n",
       "    <tr>\n",
       "      <th>0</th>\n",
       "      <td>1934-01-01</td>\n",
       "      <td>1MO</td>\n",
       "      <td>2</td>\n",
       "    </tr>\n",
       "    <tr>\n",
       "      <th>1</th>\n",
       "      <td>1934-01-01</td>\n",
       "      <td>LFT</td>\n",
       "      <td>2</td>\n",
       "    </tr>\n",
       "    <tr>\n",
       "      <th>2</th>\n",
       "      <td>1934-01-01</td>\n",
       "      <td>QTD</td>\n",
       "      <td>2</td>\n",
       "    </tr>\n",
       "    <tr>\n",
       "      <th>3</th>\n",
       "      <td>1934-01-01</td>\n",
       "      <td>YTD</td>\n",
       "      <td>2</td>\n",
       "    </tr>\n",
       "    <tr>\n",
       "      <th>4</th>\n",
       "      <td>1934-02-01</td>\n",
       "      <td>1MO</td>\n",
       "      <td>2</td>\n",
       "    </tr>\n",
       "  </tbody>\n",
       "</table>\n",
       "</div>"
      ],
      "text/plain": [
       "   postdt_new periodtype  count_PID\n",
       "0  1934-01-01        1MO          2\n",
       "1  1934-01-01        LFT          2\n",
       "2  1934-01-01        QTD          2\n",
       "3  1934-01-01        YTD          2\n",
       "4  1934-02-01        1MO          2"
      ]
     },
     "execution_count": 33,
     "metadata": {},
     "output_type": "execute_result"
    }
   ],
   "source": [
    "new_df = data.groupby(['postdt_new', 'periodtype'])['PID'].count().reset_index()\n",
    "print(new_df.shape)\n",
    "new_df.rename(columns={'PID':'count_PID'}, inplace=True)\n",
    "new_df.head()"
   ]
  },
  {
   "cell_type": "code",
   "execution_count": 34,
   "metadata": {
    "collapsed": true
   },
   "outputs": [],
   "source": [
    "new_df.to_csv('summary_PortfolioAbsReturnReleased.csv')"
   ]
  },
  {
   "cell_type": "code",
   "execution_count": null,
   "metadata": {
    "collapsed": true
   },
   "outputs": [],
   "source": []
  }
 ],
 "metadata": {
  "kernelspec": {
   "display_name": "Python 3",
   "language": "python",
   "name": "python3"
  },
  "language_info": {
   "codemirror_mode": {
    "name": "ipython",
    "version": 3
   },
   "file_extension": ".py",
   "mimetype": "text/x-python",
   "name": "python",
   "nbconvert_exporter": "python",
   "pygments_lexer": "ipython3",
   "version": "3.6.1"
  }
 },
 "nbformat": 4,
 "nbformat_minor": 2
}
