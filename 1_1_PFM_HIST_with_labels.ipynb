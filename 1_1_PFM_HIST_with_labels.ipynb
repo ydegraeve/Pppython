{
 "cells": [
  {
   "cell_type": "code",
   "execution_count": null,
   "metadata": {
    "collapsed": true
   },
   "outputs": [],
   "source": [
    "import os\n",
    "import pyodbc\n",
    "import numpy as np\n",
    "import pandas as pd\n",
    "import seaborn as sns\n",
    "from datetime import datetime\n",
    "import matplotlib.pyplot as plt\n",
    "%matplotlib inline"
   ]
  },
  {
   "cell_type": "code",
   "execution_count": null,
   "metadata": {
    "collapsed": true
   },
   "outputs": [],
   "source": [
    "cnxn = pyodbc.connect('Driver={SQL Server Native Client 11.0};\\\n",
    "                       Server=lasr-sqldb-uat,17001;\\\n",
    "                       Database=IM_I_IDWBRRESULTS_S;\\\n",
    "                       Trusted_Connection=yes;')"
   ]
  },
  {
   "cell_type": "code",
   "execution_count": null,
   "metadata": {
    "collapsed": true
   },
   "outputs": [],
   "source": [
    "sql_query = \"\"\"\n",
    "\n",
    "\"\"\"\n",
    "\n",
    "data = pd.read_sql(sql_query, cnxn)\n",
    "data.head()\n",
    "\n",
    "# Close the connection with LASR\n",
    "#THIS IS IMPORTANT ALWAYS DO THIS, ESPECIALLY IF CONNECTING TO PROD\n",
    "cnxn.close()"
   ]
  }
 ],
 "metadata": {
  "kernelspec": {
   "display_name": "Python 3",
   "language": "python",
   "name": "python3"
  },
  "language_info": {
   "codemirror_mode": {
    "name": "ipython",
    "version": 3
   },
   "file_extension": ".py",
   "mimetype": "text/x-python",
   "name": "python",
   "nbconvert_exporter": "python",
   "pygments_lexer": "ipython3",
   "version": "3.6.1"
  }
 },
 "nbformat": 4,
 "nbformat_minor": 2
}
