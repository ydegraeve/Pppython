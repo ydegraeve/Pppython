{
 "cells": [
  {
   "cell_type": "markdown",
   "metadata": {},
   "source": [
    "### Import Packages"
   ]
  },
  {
   "cell_type": "code",
   "execution_count": 1,
   "metadata": {
    "collapsed": true
   },
   "outputs": [],
   "source": [
    "import os\n",
    "import pyodbc\n",
    "import numpy as np\n",
    "import pandas as pd\n",
    "import seaborn as sns\n",
    "from datetime import datetime\n",
    "import matplotlib.pyplot as plt\n",
    "%matplotlib inline"
   ]
  },
  {
   "cell_type": "markdown",
   "metadata": {},
   "source": [
    "### Import Data"
   ]
  },
  {
   "cell_type": "markdown",
   "metadata": {},
   "source": [
    "#### `IM_I_IDWBRRADM_S.dbo.RA_PORT_RTN`"
   ]
  },
  {
   "cell_type": "code",
   "execution_count": 3,
   "metadata": {
    "collapsed": true
   },
   "outputs": [],
   "source": [
    "cnxn = pyodbc.connect('Driver={SQL Server Native Client 11.0};\\\n",
    "                       Server=lasr-sqldb-prd-im,17001;\\\n",
    "                       Database=IM_I_IDWBRRADM_S;\\\n",
    "                       Trusted_Connection=yes;')\n",
    "\n",
    "sql_query = \"\"\"\n",
    "select\n",
    "A.RAPORTFOLIOID,\n",
    "A.postdt,\n",
    "A.RTNPERIODTYPCD\n",
    "from\n",
    "(\n",
    "select\n",
    "RAPORTFOLIOID,\n",
    "RTNPERIODENDDT as postdt,\n",
    "RTNPERIODTYPCD,\n",
    "RAMARKETCYCLEID\n",
    "from IM_I_IDWBRRADM_S.dbo.RA_PORT_RTN\n",
    "where CRNCYUID = 1 and RTNPCT is not NULL\n",
    ") as A\n",
    "  inner join\n",
    "(\n",
    "select\n",
    "RAPORTFOLIOID,\n",
    "RTNPERIODENDDT as postdt,\n",
    "RTNPERIODTYPCD,\n",
    "min(RAMARKETCYCLEID) as min_cycle\n",
    "from IM_I_IDWBRRADM_S.dbo.RA_PORT_RTN\n",
    "where CRNCYUID = 1 and RTNPCT is not NULL\n",
    "group by RAPORTFOLIOID,RTNPERIODENDDT,RTNPERIODTYPCD\n",
    ") as B\n",
    "on A.RAPORTFOLIOID=B.RAPORTFOLIOID and A.postdt=B.postdt and A.RTNPERIODTYPCD=B.RTNPERIODTYPCD and A.RAMARKETCYCLEID=B.min_cycle\n",
    "\"\"\"\n",
    "# Save the data\n",
    "data = pd.read_sql(sql_query, cnxn)\n",
    "#close connection\n",
    "cnxn.close()"
   ]
  },
  {
   "cell_type": "code",
   "execution_count": 4,
   "metadata": {},
   "outputs": [
    {
     "name": "stdout",
     "output_type": "stream",
     "text": [
      "(17298077, 3)\n"
     ]
    },
    {
     "data": {
      "text/html": [
       "<div>\n",
       "<style>\n",
       "    .dataframe thead tr:only-child th {\n",
       "        text-align: right;\n",
       "    }\n",
       "\n",
       "    .dataframe thead th {\n",
       "        text-align: left;\n",
       "    }\n",
       "\n",
       "    .dataframe tbody tr th {\n",
       "        vertical-align: top;\n",
       "    }\n",
       "</style>\n",
       "<table border=\"1\" class=\"dataframe\">\n",
       "  <thead>\n",
       "    <tr style=\"text-align: right;\">\n",
       "      <th></th>\n",
       "      <th>RAPORTFOLIOID</th>\n",
       "      <th>postdt</th>\n",
       "      <th>RTNPERIODTYPCD</th>\n",
       "    </tr>\n",
       "  </thead>\n",
       "  <tbody>\n",
       "    <tr>\n",
       "      <th>0</th>\n",
       "      <td>326626</td>\n",
       "      <td>2013-02-28</td>\n",
       "      <td>MCTC</td>\n",
       "    </tr>\n",
       "    <tr>\n",
       "      <th>1</th>\n",
       "      <td>246060</td>\n",
       "      <td>2004-04-30</td>\n",
       "      <td>LIFE</td>\n",
       "    </tr>\n",
       "    <tr>\n",
       "      <th>2</th>\n",
       "      <td>63655</td>\n",
       "      <td>1990-12-31</td>\n",
       "      <td>LIFE</td>\n",
       "    </tr>\n",
       "    <tr>\n",
       "      <th>3</th>\n",
       "      <td>51412</td>\n",
       "      <td>1977-07-29</td>\n",
       "      <td>1MO</td>\n",
       "    </tr>\n",
       "    <tr>\n",
       "      <th>4</th>\n",
       "      <td>320613</td>\n",
       "      <td>2011-08-31</td>\n",
       "      <td>1MO</td>\n",
       "    </tr>\n",
       "  </tbody>\n",
       "</table>\n",
       "</div>"
      ],
      "text/plain": [
       "   RAPORTFOLIOID     postdt RTNPERIODTYPCD\n",
       "0         326626 2013-02-28           MCTC\n",
       "1         246060 2004-04-30           LIFE\n",
       "2          63655 1990-12-31           LIFE\n",
       "3          51412 1977-07-29            1MO\n",
       "4         320613 2011-08-31            1MO"
      ]
     },
     "execution_count": 4,
     "metadata": {},
     "output_type": "execute_result"
    }
   ],
   "source": [
    "print(data.shape)\n",
    "data.head()"
   ]
  },
  {
   "cell_type": "code",
   "execution_count": 6,
   "metadata": {},
   "outputs": [
    {
     "data": {
      "text/html": [
       "<div>\n",
       "<style>\n",
       "    .dataframe thead tr:only-child th {\n",
       "        text-align: right;\n",
       "    }\n",
       "\n",
       "    .dataframe thead th {\n",
       "        text-align: left;\n",
       "    }\n",
       "\n",
       "    .dataframe tbody tr th {\n",
       "        vertical-align: top;\n",
       "    }\n",
       "</style>\n",
       "<table border=\"1\" class=\"dataframe\">\n",
       "  <thead>\n",
       "    <tr style=\"text-align: right;\">\n",
       "      <th></th>\n",
       "      <th>RAPORTFOLIOID</th>\n",
       "      <th>postdt</th>\n",
       "      <th>RTNPERIODTYPCD</th>\n",
       "      <th>postdt_new</th>\n",
       "    </tr>\n",
       "  </thead>\n",
       "  <tbody>\n",
       "    <tr>\n",
       "      <th>0</th>\n",
       "      <td>326626</td>\n",
       "      <td>2013-02-28</td>\n",
       "      <td>MCTC</td>\n",
       "      <td>2013-02-01</td>\n",
       "    </tr>\n",
       "    <tr>\n",
       "      <th>1</th>\n",
       "      <td>246060</td>\n",
       "      <td>2004-04-30</td>\n",
       "      <td>LIFE</td>\n",
       "      <td>2004-04-01</td>\n",
       "    </tr>\n",
       "    <tr>\n",
       "      <th>2</th>\n",
       "      <td>63655</td>\n",
       "      <td>1990-12-31</td>\n",
       "      <td>LIFE</td>\n",
       "      <td>1990-12-01</td>\n",
       "    </tr>\n",
       "    <tr>\n",
       "      <th>3</th>\n",
       "      <td>51412</td>\n",
       "      <td>1977-07-29</td>\n",
       "      <td>1MO</td>\n",
       "      <td>1977-07-01</td>\n",
       "    </tr>\n",
       "    <tr>\n",
       "      <th>4</th>\n",
       "      <td>320613</td>\n",
       "      <td>2011-08-31</td>\n",
       "      <td>1MO</td>\n",
       "      <td>2011-08-01</td>\n",
       "    </tr>\n",
       "  </tbody>\n",
       "</table>\n",
       "</div>"
      ],
      "text/plain": [
       "   RAPORTFOLIOID     postdt RTNPERIODTYPCD postdt_new\n",
       "0         326626 2013-02-28           MCTC 2013-02-01\n",
       "1         246060 2004-04-30           LIFE 2004-04-01\n",
       "2          63655 1990-12-31           LIFE 1990-12-01\n",
       "3          51412 1977-07-29            1MO 1977-07-01\n",
       "4         320613 2011-08-31            1MO 2011-08-01"
      ]
     },
     "execution_count": 6,
     "metadata": {},
     "output_type": "execute_result"
    }
   ],
   "source": [
    "data['postdt_new'] = data['postdt'].apply(lambda dt: dt.replace(day=1))\n",
    "data.head()"
   ]
  },
  {
   "cell_type": "code",
   "execution_count": 7,
   "metadata": {},
   "outputs": [
    {
     "name": "stdout",
     "output_type": "stream",
     "text": [
      "RAPORTFOLIOID     17298077\n",
      "postdt            17298077\n",
      "RTNPERIODTYPCD    17298077\n",
      "postdt_new        17298077\n",
      "dtype: int64\n"
     ]
    }
   ],
   "source": [
    "#check no duplicate records\n",
    "print(data.drop_duplicates(subset=['RAPORTFOLIOID', 'postdt_new', 'RTNPERIODTYPCD'], keep='first', inplace=False).count())"
   ]
  },
  {
   "cell_type": "code",
   "execution_count": 10,
   "metadata": {},
   "outputs": [
    {
     "data": {
      "text/html": [
       "<div>\n",
       "<style>\n",
       "    .dataframe thead tr:only-child th {\n",
       "        text-align: right;\n",
       "    }\n",
       "\n",
       "    .dataframe thead th {\n",
       "        text-align: left;\n",
       "    }\n",
       "\n",
       "    .dataframe tbody tr th {\n",
       "        vertical-align: top;\n",
       "    }\n",
       "</style>\n",
       "<table border=\"1\" class=\"dataframe\">\n",
       "  <thead>\n",
       "    <tr style=\"text-align: right;\">\n",
       "      <th></th>\n",
       "      <th>postdt_new</th>\n",
       "      <th>RTNPERIODTYPCD</th>\n",
       "      <th>RAPORTFOLIOID</th>\n",
       "    </tr>\n",
       "  </thead>\n",
       "  <tbody>\n",
       "    <tr>\n",
       "      <th>0</th>\n",
       "      <td>1934-01-01</td>\n",
       "      <td>1MO</td>\n",
       "      <td>1</td>\n",
       "    </tr>\n",
       "    <tr>\n",
       "      <th>1</th>\n",
       "      <td>1934-01-01</td>\n",
       "      <td>LIFE</td>\n",
       "      <td>1</td>\n",
       "    </tr>\n",
       "    <tr>\n",
       "      <th>2</th>\n",
       "      <td>1934-01-01</td>\n",
       "      <td>LIFEPRD</td>\n",
       "      <td>1</td>\n",
       "    </tr>\n",
       "    <tr>\n",
       "      <th>3</th>\n",
       "      <td>1934-01-01</td>\n",
       "      <td>YTD</td>\n",
       "      <td>1</td>\n",
       "    </tr>\n",
       "    <tr>\n",
       "      <th>4</th>\n",
       "      <td>1934-02-01</td>\n",
       "      <td>1MO</td>\n",
       "      <td>1</td>\n",
       "    </tr>\n",
       "  </tbody>\n",
       "</table>\n",
       "</div>"
      ],
      "text/plain": [
       "  postdt_new RTNPERIODTYPCD  RAPORTFOLIOID\n",
       "0 1934-01-01            1MO              1\n",
       "1 1934-01-01           LIFE              1\n",
       "2 1934-01-01        LIFEPRD              1\n",
       "3 1934-01-01            YTD              1\n",
       "4 1934-02-01            1MO              1"
      ]
     },
     "execution_count": 10,
     "metadata": {},
     "output_type": "execute_result"
    }
   ],
   "source": [
    "df_final = data.groupby(['postdt_new', 'RTNPERIODTYPCD'])['RAPORTFOLIOID'].count().reset_index()\n",
    "df_final.head()"
   ]
  },
  {
   "cell_type": "code",
   "execution_count": 12,
   "metadata": {},
   "outputs": [
    {
     "name": "stdout",
     "output_type": "stream",
     "text": [
      "(17921, 3)\n"
     ]
    },
    {
     "data": {
      "text/html": [
       "<div>\n",
       "<style>\n",
       "    .dataframe thead tr:only-child th {\n",
       "        text-align: right;\n",
       "    }\n",
       "\n",
       "    .dataframe thead th {\n",
       "        text-align: left;\n",
       "    }\n",
       "\n",
       "    .dataframe tbody tr th {\n",
       "        vertical-align: top;\n",
       "    }\n",
       "</style>\n",
       "<table border=\"1\" class=\"dataframe\">\n",
       "  <thead>\n",
       "    <tr style=\"text-align: right;\">\n",
       "      <th></th>\n",
       "      <th>postdt_new</th>\n",
       "      <th>periodtype</th>\n",
       "      <th>Portfolio_Cnt</th>\n",
       "    </tr>\n",
       "  </thead>\n",
       "  <tbody>\n",
       "    <tr>\n",
       "      <th>0</th>\n",
       "      <td>1934-01-01</td>\n",
       "      <td>1MO</td>\n",
       "      <td>1</td>\n",
       "    </tr>\n",
       "    <tr>\n",
       "      <th>1</th>\n",
       "      <td>1934-01-01</td>\n",
       "      <td>LIFE</td>\n",
       "      <td>1</td>\n",
       "    </tr>\n",
       "    <tr>\n",
       "      <th>2</th>\n",
       "      <td>1934-01-01</td>\n",
       "      <td>LIFEPRD</td>\n",
       "      <td>1</td>\n",
       "    </tr>\n",
       "    <tr>\n",
       "      <th>3</th>\n",
       "      <td>1934-01-01</td>\n",
       "      <td>YTD</td>\n",
       "      <td>1</td>\n",
       "    </tr>\n",
       "    <tr>\n",
       "      <th>4</th>\n",
       "      <td>1934-02-01</td>\n",
       "      <td>1MO</td>\n",
       "      <td>1</td>\n",
       "    </tr>\n",
       "  </tbody>\n",
       "</table>\n",
       "</div>"
      ],
      "text/plain": [
       "  postdt_new periodtype  Portfolio_Cnt\n",
       "0 1934-01-01        1MO              1\n",
       "1 1934-01-01       LIFE              1\n",
       "2 1934-01-01    LIFEPRD              1\n",
       "3 1934-01-01        YTD              1\n",
       "4 1934-02-01        1MO              1"
      ]
     },
     "execution_count": 12,
     "metadata": {},
     "output_type": "execute_result"
    }
   ],
   "source": [
    "df_final.rename(columns={'RTNPERIODTYPCD':'periodtype'}, inplace=True)\n",
    "df_final.rename(columns={'RAPORTFOLIOID':'Portfolio_Cnt'}, inplace=True)\n",
    "print(df_final.shape)\n",
    "df_final.head()"
   ]
  },
  {
   "cell_type": "code",
   "execution_count": 14,
   "metadata": {
    "collapsed": true
   },
   "outputs": [],
   "source": [
    "df_final.to_csv('summary_RA_PORT_RTN.csv')"
   ]
  },
  {
   "cell_type": "code",
   "execution_count": null,
   "metadata": {
    "collapsed": true
   },
   "outputs": [],
   "source": []
  }
 ],
 "metadata": {
  "kernelspec": {
   "display_name": "Python 3",
   "language": "python",
   "name": "python3"
  },
  "language_info": {
   "codemirror_mode": {
    "name": "ipython",
    "version": 3
   },
   "file_extension": ".py",
   "mimetype": "text/x-python",
   "name": "python",
   "nbconvert_exporter": "python",
   "pygments_lexer": "ipython3",
   "version": "3.6.1"
  }
 },
 "nbformat": 4,
 "nbformat_minor": 2
}
