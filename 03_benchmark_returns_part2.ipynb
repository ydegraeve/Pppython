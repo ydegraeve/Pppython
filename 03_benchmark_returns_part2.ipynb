{
 "cells": [
  {
   "cell_type": "markdown",
   "metadata": {},
   "source": [
    "### Import Packages"
   ]
  },
  {
   "cell_type": "code",
   "execution_count": 1,
   "metadata": {
    "collapsed": true
   },
   "outputs": [],
   "source": [
    "import os\n",
    "import pyodbc\n",
    "import numpy as np\n",
    "import pandas as pd\n",
    "import seaborn as sns\n",
    "from datetime import datetime\n",
    "import matplotlib.pyplot as plt\n",
    "%matplotlib inline"
   ]
  },
  {
   "cell_type": "markdown",
   "metadata": {},
   "source": [
    "### Import Data"
   ]
  },
  {
   "cell_type": "markdown",
   "metadata": {},
   "source": [
    "#### Connect to LASR"
   ]
  },
  {
   "cell_type": "code",
   "execution_count": 2,
   "metadata": {
    "collapsed": true
   },
   "outputs": [],
   "source": [
    "# cnxn = pyodbc.connect('Driver={SQL Server Native Client 11.0};\\\n",
    "#                        Server=lasr-sqldb-prd-im,17001;\\\n",
    "#                        Database=IM_I_IDWBRRESULTS_S;\\\n",
    "#                        Trusted_Connection=yes;')"
   ]
  },
  {
   "cell_type": "code",
   "execution_count": 3,
   "metadata": {
    "collapsed": true
   },
   "outputs": [],
   "source": [
    "# sql_query = \"\"\"\n",
    "# select\n",
    "# *\n",
    "# from\n",
    "# (\n",
    "# select\n",
    "# raportbenchmarkid, \n",
    "# postdt, \n",
    "# rtnperiodtypcd, \n",
    "# rtnpct\n",
    "# from IM_I_IDWBRRADM_S.dbo.RA_BMRK_RTN\n",
    "# where  rtnperiodtypcd in ('1MO', '3MO', '6MO', '12MO') and crncyuid = 1 and rtnpct is not null \n",
    "# ) as A\n",
    "# left join\n",
    "#   (\n",
    "#   select\n",
    "#     A.raportbenchmarkid, \n",
    "#     A.bmrkrpttypnm, \n",
    "#     A.portbmrkprioritynum, \n",
    "#     A.invportid,\n",
    "#        case\n",
    "#          when A.INVPORTID = C.AGGRID then 1\n",
    "#          else 0\n",
    "#        end as has_aggrid_flag\n",
    "# from \n",
    "#     IM_M_RADM_S.dbo.vwRaPortBenchmark as A\n",
    "# left join\n",
    "#      (\n",
    "#     select\n",
    "#     distinct B.AGGRID\n",
    "#     from IM_I_IDWBRRESULTS_S.dbo.MA_PP_PFMHIST as B\n",
    "#     where B.incltyp = 'I' and B.crncyid = 1\n",
    "#     ) as C\n",
    "# on \n",
    "#     A.INVPORTID = C.AGGRID\n",
    "#   ) as B\n",
    "# on A.raportbenchmarkid = B.raportbenchmarkid\n",
    "    \n",
    "# \"\"\"\n",
    "\n",
    "# data = pd.read_sql(sql_query, cnxn)\n",
    "# data.head()"
   ]
  },
  {
   "cell_type": "code",
   "execution_count": 4,
   "metadata": {
    "collapsed": true
   },
   "outputs": [],
   "source": [
    "os.chdir('data')"
   ]
  },
  {
   "cell_type": "code",
   "execution_count": 5,
   "metadata": {},
   "outputs": [
    {
     "data": {
      "text/html": [
       "<div>\n",
       "<style scoped>\n",
       "    .dataframe tbody tr th:only-of-type {\n",
       "        vertical-align: middle;\n",
       "    }\n",
       "\n",
       "    .dataframe tbody tr th {\n",
       "        vertical-align: top;\n",
       "    }\n",
       "\n",
       "    .dataframe thead th {\n",
       "        text-align: right;\n",
       "    }\n",
       "</style>\n",
       "<table border=\"1\" class=\"dataframe\">\n",
       "  <thead>\n",
       "    <tr style=\"text-align: right;\">\n",
       "      <th></th>\n",
       "      <th>Unnamed: 0</th>\n",
       "      <th>raportbenchmarkid</th>\n",
       "      <th>postdt</th>\n",
       "      <th>rtnperiodtypcd</th>\n",
       "      <th>rtnpct</th>\n",
       "      <th>raportbenchmarkid.1</th>\n",
       "      <th>bmrkrpttypnm</th>\n",
       "      <th>portbmrkprioritynum</th>\n",
       "      <th>invportid</th>\n",
       "      <th>has_aggrid_flag</th>\n",
       "    </tr>\n",
       "  </thead>\n",
       "  <tbody>\n",
       "    <tr>\n",
       "      <th>0</th>\n",
       "      <td>0</td>\n",
       "      <td>180482</td>\n",
       "      <td>1997-11-28</td>\n",
       "      <td>3MO</td>\n",
       "      <td>110.634502</td>\n",
       "      <td>180482</td>\n",
       "      <td>Override</td>\n",
       "      <td>2</td>\n",
       "      <td>117031069.0</td>\n",
       "      <td>1</td>\n",
       "    </tr>\n",
       "    <tr>\n",
       "      <th>1</th>\n",
       "      <td>1</td>\n",
       "      <td>15663</td>\n",
       "      <td>2004-02-27</td>\n",
       "      <td>3MO</td>\n",
       "      <td>110.706567</td>\n",
       "      <td>15663</td>\n",
       "      <td>Both</td>\n",
       "      <td>1</td>\n",
       "      <td>143058113.0</td>\n",
       "      <td>1</td>\n",
       "    </tr>\n",
       "    <tr>\n",
       "      <th>2</th>\n",
       "      <td>2</td>\n",
       "      <td>11995</td>\n",
       "      <td>1990-06-29</td>\n",
       "      <td>1MO</td>\n",
       "      <td>103.455464</td>\n",
       "      <td>11995</td>\n",
       "      <td>Both</td>\n",
       "      <td>2</td>\n",
       "      <td>109134611.0</td>\n",
       "      <td>1</td>\n",
       "    </tr>\n",
       "    <tr>\n",
       "      <th>3</th>\n",
       "      <td>3</td>\n",
       "      <td>25039</td>\n",
       "      <td>2013-09-30</td>\n",
       "      <td>1MO</td>\n",
       "      <td>107.189345</td>\n",
       "      <td>25039</td>\n",
       "      <td>Both</td>\n",
       "      <td>1</td>\n",
       "      <td>206221840.0</td>\n",
       "      <td>1</td>\n",
       "    </tr>\n",
       "    <tr>\n",
       "      <th>4</th>\n",
       "      <td>4</td>\n",
       "      <td>25402</td>\n",
       "      <td>1997-11-28</td>\n",
       "      <td>3MO</td>\n",
       "      <td>101.880439</td>\n",
       "      <td>25402</td>\n",
       "      <td>Both</td>\n",
       "      <td>1</td>\n",
       "      <td>180239834.0</td>\n",
       "      <td>1</td>\n",
       "    </tr>\n",
       "  </tbody>\n",
       "</table>\n",
       "</div>"
      ],
      "text/plain": [
       "   Unnamed: 0  raportbenchmarkid      postdt rtnperiodtypcd      rtnpct  \\\n",
       "0           0             180482  1997-11-28            3MO  110.634502   \n",
       "1           1              15663  2004-02-27            3MO  110.706567   \n",
       "2           2              11995  1990-06-29            1MO  103.455464   \n",
       "3           3              25039  2013-09-30            1MO  107.189345   \n",
       "4           4              25402  1997-11-28            3MO  101.880439   \n",
       "\n",
       "   raportbenchmarkid.1 bmrkrpttypnm  portbmrkprioritynum    invportid  \\\n",
       "0               180482     Override                    2  117031069.0   \n",
       "1                15663         Both                    1  143058113.0   \n",
       "2                11995         Both                    2  109134611.0   \n",
       "3                25039         Both                    1  206221840.0   \n",
       "4                25402         Both                    1  180239834.0   \n",
       "\n",
       "   has_aggrid_flag  \n",
       "0                1  \n",
       "1                1  \n",
       "2                1  \n",
       "3                1  \n",
       "4                1  "
      ]
     },
     "execution_count": 5,
     "metadata": {},
     "output_type": "execute_result"
    }
   ],
   "source": [
    "data = pd.read_csv('benchmark_data.csv')\n",
    "data.head()"
   ]
  },
  {
   "cell_type": "markdown",
   "metadata": {},
   "source": [
    "### Exploratory Data Analysis"
   ]
  },
  {
   "cell_type": "code",
   "execution_count": 6,
   "metadata": {},
   "outputs": [
    {
     "data": {
      "text/plain": [
       "(13107544, 10)"
      ]
     },
     "execution_count": 6,
     "metadata": {},
     "output_type": "execute_result"
    }
   ],
   "source": [
    "data.shape"
   ]
  },
  {
   "cell_type": "code",
   "execution_count": 7,
   "metadata": {},
   "outputs": [
    {
     "data": {
      "text/plain": [
       "array(['Unnamed: 0', 'raportbenchmarkid', 'postdt', 'rtnperiodtypcd',\n",
       "       'rtnpct', 'raportbenchmarkid.1', 'bmrkrpttypnm',\n",
       "       'portbmrkprioritynum', 'invportid', 'has_aggrid_flag'],\n",
       "      dtype=object)"
      ]
     },
     "execution_count": 7,
     "metadata": {},
     "output_type": "execute_result"
    }
   ],
   "source": [
    "data.columns.values"
   ]
  },
  {
   "cell_type": "code",
   "execution_count": 8,
   "metadata": {},
   "outputs": [
    {
     "data": {
      "text/plain": [
       "array(['3MO', '1MO', '12MO', '6MO'], dtype=object)"
      ]
     },
     "execution_count": 8,
     "metadata": {},
     "output_type": "execute_result"
    }
   ],
   "source": [
    "data.rtnperiodtypcd.unique()"
   ]
  },
  {
   "cell_type": "markdown",
   "metadata": {},
   "source": [
    "#### Check which Benchmarks have multiple period types"
   ]
  },
  {
   "cell_type": "code",
   "execution_count": null,
   "metadata": {
    "collapsed": true
   },
   "outputs": [],
   "source": [
    "#data.groupby(['raportbenchmarkid', 'postdt'])['rtnperiodtypcd'].count()"
   ]
  },
  {
   "cell_type": "markdown",
   "metadata": {},
   "source": [
    "#### Examples"
   ]
  },
  {
   "cell_type": "code",
   "execution_count": null,
   "metadata": {
    "collapsed": true
   },
   "outputs": [],
   "source": [
    "#data[(data['raportbenchmarkid'] == 1) & (data['postdt'] == '1976-12-31')]"
   ]
  },
  {
   "cell_type": "code",
   "execution_count": null,
   "metadata": {
    "collapsed": true
   },
   "outputs": [],
   "source": [
    "#data[(data['raportbenchmarkid'] == 1) & (data['postdt'] == '1993-03-31')]"
   ]
  },
  {
   "cell_type": "code",
   "execution_count": null,
   "metadata": {
    "collapsed": true
   },
   "outputs": [],
   "source": [
    "#data[(data['raportbenchmarkid'] == 1) & (data['postdt'] == '1993-10-29')]"
   ]
  },
  {
   "cell_type": "markdown",
   "metadata": {},
   "source": [
    "### Data Preprocessing"
   ]
  },
  {
   "cell_type": "code",
   "execution_count": 9,
   "metadata": {},
   "outputs": [
    {
     "data": {
      "text/html": [
       "<div>\n",
       "<style scoped>\n",
       "    .dataframe tbody tr th:only-of-type {\n",
       "        vertical-align: middle;\n",
       "    }\n",
       "\n",
       "    .dataframe tbody tr th {\n",
       "        vertical-align: top;\n",
       "    }\n",
       "\n",
       "    .dataframe thead th {\n",
       "        text-align: right;\n",
       "    }\n",
       "</style>\n",
       "<table border=\"1\" class=\"dataframe\">\n",
       "  <thead>\n",
       "    <tr style=\"text-align: right;\">\n",
       "      <th></th>\n",
       "      <th>Unnamed: 0</th>\n",
       "      <th>raportbenchmarkid</th>\n",
       "      <th>postdt</th>\n",
       "      <th>rtnperiodtypcd</th>\n",
       "      <th>rtnpct</th>\n",
       "      <th>raportbenchmarkid.1</th>\n",
       "      <th>bmrkrpttypnm</th>\n",
       "      <th>portbmrkprioritynum</th>\n",
       "      <th>invportid</th>\n",
       "      <th>has_aggrid_flag</th>\n",
       "      <th>priority</th>\n",
       "    </tr>\n",
       "  </thead>\n",
       "  <tbody>\n",
       "    <tr>\n",
       "      <th>0</th>\n",
       "      <td>0</td>\n",
       "      <td>180482</td>\n",
       "      <td>1997-11-28</td>\n",
       "      <td>3MO</td>\n",
       "      <td>110.634502</td>\n",
       "      <td>180482</td>\n",
       "      <td>Override</td>\n",
       "      <td>2</td>\n",
       "      <td>117031069.0</td>\n",
       "      <td>1</td>\n",
       "      <td>2</td>\n",
       "    </tr>\n",
       "    <tr>\n",
       "      <th>1</th>\n",
       "      <td>1</td>\n",
       "      <td>15663</td>\n",
       "      <td>2004-02-27</td>\n",
       "      <td>3MO</td>\n",
       "      <td>110.706567</td>\n",
       "      <td>15663</td>\n",
       "      <td>Both</td>\n",
       "      <td>1</td>\n",
       "      <td>143058113.0</td>\n",
       "      <td>1</td>\n",
       "      <td>2</td>\n",
       "    </tr>\n",
       "    <tr>\n",
       "      <th>2</th>\n",
       "      <td>2</td>\n",
       "      <td>11995</td>\n",
       "      <td>1990-06-29</td>\n",
       "      <td>1MO</td>\n",
       "      <td>103.455464</td>\n",
       "      <td>11995</td>\n",
       "      <td>Both</td>\n",
       "      <td>2</td>\n",
       "      <td>109134611.0</td>\n",
       "      <td>1</td>\n",
       "      <td>1</td>\n",
       "    </tr>\n",
       "    <tr>\n",
       "      <th>3</th>\n",
       "      <td>3</td>\n",
       "      <td>25039</td>\n",
       "      <td>2013-09-30</td>\n",
       "      <td>1MO</td>\n",
       "      <td>107.189345</td>\n",
       "      <td>25039</td>\n",
       "      <td>Both</td>\n",
       "      <td>1</td>\n",
       "      <td>206221840.0</td>\n",
       "      <td>1</td>\n",
       "      <td>1</td>\n",
       "    </tr>\n",
       "    <tr>\n",
       "      <th>4</th>\n",
       "      <td>4</td>\n",
       "      <td>25402</td>\n",
       "      <td>1997-11-28</td>\n",
       "      <td>3MO</td>\n",
       "      <td>101.880439</td>\n",
       "      <td>25402</td>\n",
       "      <td>Both</td>\n",
       "      <td>1</td>\n",
       "      <td>180239834.0</td>\n",
       "      <td>1</td>\n",
       "      <td>2</td>\n",
       "    </tr>\n",
       "  </tbody>\n",
       "</table>\n",
       "</div>"
      ],
      "text/plain": [
       "   Unnamed: 0  raportbenchmarkid     postdt rtnperiodtypcd      rtnpct  \\\n",
       "0           0             180482 1997-11-28            3MO  110.634502   \n",
       "1           1              15663 2004-02-27            3MO  110.706567   \n",
       "2           2              11995 1990-06-29            1MO  103.455464   \n",
       "3           3              25039 2013-09-30            1MO  107.189345   \n",
       "4           4              25402 1997-11-28            3MO  101.880439   \n",
       "\n",
       "   raportbenchmarkid.1 bmrkrpttypnm  portbmrkprioritynum    invportid  \\\n",
       "0               180482     Override                    2  117031069.0   \n",
       "1                15663         Both                    1  143058113.0   \n",
       "2                11995         Both                    2  109134611.0   \n",
       "3                25039         Both                    1  206221840.0   \n",
       "4                25402         Both                    1  180239834.0   \n",
       "\n",
       "   has_aggrid_flag  priority  \n",
       "0                1         2  \n",
       "1                1         2  \n",
       "2                1         1  \n",
       "3                1         1  \n",
       "4                1         2  "
      ]
     },
     "execution_count": 9,
     "metadata": {},
     "output_type": "execute_result"
    }
   ],
   "source": [
    "data['postdt'] = pd.to_datetime(data['postdt'], format='%Y-%m-%d')\n",
    "data['priority'] = data['rtnperiodtypcd'].map({'1MO':1, '3MO':2, '6MO':3, '12MO':4})\n",
    "data.head()"
   ]
  },
  {
   "cell_type": "code",
   "execution_count": 10,
   "metadata": {
    "collapsed": true
   },
   "outputs": [],
   "source": [
    "# main_df = pd.pivot_table(data, columns=['raportbenchmarkid', 'postdt','rtnperiodtypcd', 'bmrkrpttypnm', \n",
    "#                                         'portbmrkprioritynum', 'invportid', 'has_aggrid_flag'], \n",
    "#                                values=['priority'], \n",
    "#                                aggfunc=np.min).reset_index()\n",
    "\n",
    "# main_df.head()"
   ]
  },
  {
   "cell_type": "code",
   "execution_count": 11,
   "metadata": {},
   "outputs": [
    {
     "data": {
      "text/plain": [
       "array(['Unnamed: 0', 'raportbenchmarkid', 'postdt', 'rtnperiodtypcd',\n",
       "       'rtnpct', 'raportbenchmarkid.1', 'bmrkrpttypnm',\n",
       "       'portbmrkprioritynum', 'invportid', 'has_aggrid_flag', 'priority'],\n",
       "      dtype=object)"
      ]
     },
     "execution_count": 11,
     "metadata": {},
     "output_type": "execute_result"
    }
   ],
   "source": [
    "data.columns.values"
   ]
  },
  {
   "cell_type": "markdown",
   "metadata": {},
   "source": [
    "### Groupby"
   ]
  },
  {
   "cell_type": "code",
   "execution_count": 12,
   "metadata": {},
   "outputs": [
    {
     "data": {
      "text/html": [
       "<div>\n",
       "<style scoped>\n",
       "    .dataframe tbody tr th:only-of-type {\n",
       "        vertical-align: middle;\n",
       "    }\n",
       "\n",
       "    .dataframe tbody tr th {\n",
       "        vertical-align: top;\n",
       "    }\n",
       "\n",
       "    .dataframe thead th {\n",
       "        text-align: right;\n",
       "    }\n",
       "</style>\n",
       "<table border=\"1\" class=\"dataframe\">\n",
       "  <thead>\n",
       "    <tr style=\"text-align: right;\">\n",
       "      <th></th>\n",
       "      <th>raportbenchmarkid</th>\n",
       "      <th>postdt</th>\n",
       "      <th>priority</th>\n",
       "      <th>Unnamed: 0</th>\n",
       "      <th>rtnperiodtypcd</th>\n",
       "      <th>rtnpct</th>\n",
       "      <th>raportbenchmarkid.1</th>\n",
       "      <th>bmrkrpttypnm</th>\n",
       "      <th>portbmrkprioritynum</th>\n",
       "      <th>invportid</th>\n",
       "      <th>has_aggrid_flag</th>\n",
       "    </tr>\n",
       "  </thead>\n",
       "  <tbody>\n",
       "    <tr>\n",
       "      <th>0</th>\n",
       "      <td>1</td>\n",
       "      <td>1976-12-31</td>\n",
       "      <td>4</td>\n",
       "      <td>7638647</td>\n",
       "      <td>12MO</td>\n",
       "      <td>123.64</td>\n",
       "      <td>1</td>\n",
       "      <td>Mgr Rpts</td>\n",
       "      <td>1</td>\n",
       "      <td>10600.0</td>\n",
       "      <td>1</td>\n",
       "    </tr>\n",
       "    <tr>\n",
       "      <th>1</th>\n",
       "      <td>1</td>\n",
       "      <td>1977-12-30</td>\n",
       "      <td>4</td>\n",
       "      <td>7647287</td>\n",
       "      <td>12MO</td>\n",
       "      <td>92.80</td>\n",
       "      <td>1</td>\n",
       "      <td>Mgr Rpts</td>\n",
       "      <td>1</td>\n",
       "      <td>10600.0</td>\n",
       "      <td>1</td>\n",
       "    </tr>\n",
       "    <tr>\n",
       "      <th>2</th>\n",
       "      <td>1</td>\n",
       "      <td>1978-12-29</td>\n",
       "      <td>4</td>\n",
       "      <td>7571095</td>\n",
       "      <td>12MO</td>\n",
       "      <td>106.41</td>\n",
       "      <td>1</td>\n",
       "      <td>Mgr Rpts</td>\n",
       "      <td>1</td>\n",
       "      <td>10600.0</td>\n",
       "      <td>1</td>\n",
       "    </tr>\n",
       "    <tr>\n",
       "      <th>3</th>\n",
       "      <td>1</td>\n",
       "      <td>1979-12-31</td>\n",
       "      <td>4</td>\n",
       "      <td>7485879</td>\n",
       "      <td>12MO</td>\n",
       "      <td>118.19</td>\n",
       "      <td>1</td>\n",
       "      <td>Mgr Rpts</td>\n",
       "      <td>1</td>\n",
       "      <td>10600.0</td>\n",
       "      <td>1</td>\n",
       "    </tr>\n",
       "    <tr>\n",
       "      <th>4</th>\n",
       "      <td>1</td>\n",
       "      <td>1980-12-31</td>\n",
       "      <td>4</td>\n",
       "      <td>7663575</td>\n",
       "      <td>12MO</td>\n",
       "      <td>131.48</td>\n",
       "      <td>1</td>\n",
       "      <td>Mgr Rpts</td>\n",
       "      <td>1</td>\n",
       "      <td>10600.0</td>\n",
       "      <td>1</td>\n",
       "    </tr>\n",
       "  </tbody>\n",
       "</table>\n",
       "</div>"
      ],
      "text/plain": [
       "   raportbenchmarkid     postdt  priority  Unnamed: 0 rtnperiodtypcd  rtnpct  \\\n",
       "0                  1 1976-12-31         4     7638647           12MO  123.64   \n",
       "1                  1 1977-12-30         4     7647287           12MO   92.80   \n",
       "2                  1 1978-12-29         4     7571095           12MO  106.41   \n",
       "3                  1 1979-12-31         4     7485879           12MO  118.19   \n",
       "4                  1 1980-12-31         4     7663575           12MO  131.48   \n",
       "\n",
       "   raportbenchmarkid.1 bmrkrpttypnm  portbmrkprioritynum  invportid  \\\n",
       "0                    1     Mgr Rpts                    1    10600.0   \n",
       "1                    1     Mgr Rpts                    1    10600.0   \n",
       "2                    1     Mgr Rpts                    1    10600.0   \n",
       "3                    1     Mgr Rpts                    1    10600.0   \n",
       "4                    1     Mgr Rpts                    1    10600.0   \n",
       "\n",
       "   has_aggrid_flag  \n",
       "0                1  \n",
       "1                1  \n",
       "2                1  \n",
       "3                1  \n",
       "4                1  "
      ]
     },
     "execution_count": 12,
     "metadata": {},
     "output_type": "execute_result"
    }
   ],
   "source": [
    "left_df = data.groupby(['raportbenchmarkid', 'postdt'])['priority'].min().reset_index()\n",
    "final_df = pd.merge(left_df, data, on=['raportbenchmarkid', 'postdt', 'priority'], how='left')\n",
    "final_df.head()"
   ]
  },
  {
   "cell_type": "code",
   "execution_count": 13,
   "metadata": {
    "collapsed": true
   },
   "outputs": [],
   "source": [
    "final_df.drop(['Unnamed: 0', 'raportbenchmarkid.1'], axis=1, inplace=True)\n",
    "final_df.set_index('postdt', drop=True, inplace=True)"
   ]
  },
  {
   "cell_type": "code",
   "execution_count": 14,
   "metadata": {
    "collapsed": true
   },
   "outputs": [],
   "source": [
    "final_df = final_df.reset_index()"
   ]
  },
  {
   "cell_type": "code",
   "execution_count": 15,
   "metadata": {},
   "outputs": [
    {
     "data": {
      "text/html": [
       "<div>\n",
       "<style scoped>\n",
       "    .dataframe tbody tr th:only-of-type {\n",
       "        vertical-align: middle;\n",
       "    }\n",
       "\n",
       "    .dataframe tbody tr th {\n",
       "        vertical-align: top;\n",
       "    }\n",
       "\n",
       "    .dataframe thead th {\n",
       "        text-align: right;\n",
       "    }\n",
       "</style>\n",
       "<table border=\"1\" class=\"dataframe\">\n",
       "  <thead>\n",
       "    <tr style=\"text-align: right;\">\n",
       "      <th></th>\n",
       "      <th>postdt</th>\n",
       "      <th>raportbenchmarkid</th>\n",
       "      <th>priority</th>\n",
       "      <th>rtnperiodtypcd</th>\n",
       "      <th>rtnpct</th>\n",
       "      <th>bmrkrpttypnm</th>\n",
       "      <th>portbmrkprioritynum</th>\n",
       "      <th>invportid</th>\n",
       "      <th>has_aggrid_flag</th>\n",
       "    </tr>\n",
       "  </thead>\n",
       "  <tbody>\n",
       "    <tr>\n",
       "      <th>0</th>\n",
       "      <td>1976-12-31</td>\n",
       "      <td>1</td>\n",
       "      <td>4</td>\n",
       "      <td>12MO</td>\n",
       "      <td>123.64</td>\n",
       "      <td>Mgr Rpts</td>\n",
       "      <td>1</td>\n",
       "      <td>10600.0</td>\n",
       "      <td>1</td>\n",
       "    </tr>\n",
       "    <tr>\n",
       "      <th>1</th>\n",
       "      <td>1977-12-30</td>\n",
       "      <td>1</td>\n",
       "      <td>4</td>\n",
       "      <td>12MO</td>\n",
       "      <td>92.80</td>\n",
       "      <td>Mgr Rpts</td>\n",
       "      <td>1</td>\n",
       "      <td>10600.0</td>\n",
       "      <td>1</td>\n",
       "    </tr>\n",
       "    <tr>\n",
       "      <th>2</th>\n",
       "      <td>1978-12-29</td>\n",
       "      <td>1</td>\n",
       "      <td>4</td>\n",
       "      <td>12MO</td>\n",
       "      <td>106.41</td>\n",
       "      <td>Mgr Rpts</td>\n",
       "      <td>1</td>\n",
       "      <td>10600.0</td>\n",
       "      <td>1</td>\n",
       "    </tr>\n",
       "    <tr>\n",
       "      <th>3</th>\n",
       "      <td>1979-12-31</td>\n",
       "      <td>1</td>\n",
       "      <td>4</td>\n",
       "      <td>12MO</td>\n",
       "      <td>118.19</td>\n",
       "      <td>Mgr Rpts</td>\n",
       "      <td>1</td>\n",
       "      <td>10600.0</td>\n",
       "      <td>1</td>\n",
       "    </tr>\n",
       "    <tr>\n",
       "      <th>4</th>\n",
       "      <td>1980-12-31</td>\n",
       "      <td>1</td>\n",
       "      <td>4</td>\n",
       "      <td>12MO</td>\n",
       "      <td>131.48</td>\n",
       "      <td>Mgr Rpts</td>\n",
       "      <td>1</td>\n",
       "      <td>10600.0</td>\n",
       "      <td>1</td>\n",
       "    </tr>\n",
       "  </tbody>\n",
       "</table>\n",
       "</div>"
      ],
      "text/plain": [
       "      postdt  raportbenchmarkid  priority rtnperiodtypcd  rtnpct bmrkrpttypnm  \\\n",
       "0 1976-12-31                  1         4           12MO  123.64     Mgr Rpts   \n",
       "1 1977-12-30                  1         4           12MO   92.80     Mgr Rpts   \n",
       "2 1978-12-29                  1         4           12MO  106.41     Mgr Rpts   \n",
       "3 1979-12-31                  1         4           12MO  118.19     Mgr Rpts   \n",
       "4 1980-12-31                  1         4           12MO  131.48     Mgr Rpts   \n",
       "\n",
       "   portbmrkprioritynum  invportid  has_aggrid_flag  \n",
       "0                    1    10600.0                1  \n",
       "1                    1    10600.0                1  \n",
       "2                    1    10600.0                1  \n",
       "3                    1    10600.0                1  \n",
       "4                    1    10600.0                1  "
      ]
     },
     "execution_count": 15,
     "metadata": {},
     "output_type": "execute_result"
    }
   ],
   "source": [
    "final_df.head()"
   ]
  },
  {
   "cell_type": "code",
   "execution_count": null,
   "metadata": {
    "collapsed": true
   },
   "outputs": [],
   "source": [
    "#final_df.to_csv('final_df_0917_v3.csv')"
   ]
  },
  {
   "cell_type": "markdown",
   "metadata": {},
   "source": [
    "### Make the Final Dataframe"
   ]
  },
  {
   "cell_type": "code",
   "execution_count": 16,
   "metadata": {},
   "outputs": [
    {
     "data": {
      "text/plain": [
       "array(['postdt', 'raportbenchmarkid', 'priority', 'rtnperiodtypcd',\n",
       "       'rtnpct', 'bmrkrpttypnm', 'portbmrkprioritynum', 'invportid',\n",
       "       'has_aggrid_flag'], dtype=object)"
      ]
     },
     "execution_count": 16,
     "metadata": {},
     "output_type": "execute_result"
    }
   ],
   "source": [
    "final_df.columns.values"
   ]
  },
  {
   "cell_type": "code",
   "execution_count": 17,
   "metadata": {
    "collapsed": true
   },
   "outputs": [],
   "source": [
    "test_df = final_df[['raportbenchmarkid', 'rtnperiodtypcd', 'postdt', 'bmrkrpttypnm', \n",
    "                    'portbmrkprioritynum', 'invportid', 'has_aggrid_flag']]"
   ]
  },
  {
   "cell_type": "code",
   "execution_count": 18,
   "metadata": {},
   "outputs": [
    {
     "data": {
      "text/html": [
       "<div>\n",
       "<style scoped>\n",
       "    .dataframe tbody tr th:only-of-type {\n",
       "        vertical-align: middle;\n",
       "    }\n",
       "\n",
       "    .dataframe tbody tr th {\n",
       "        vertical-align: top;\n",
       "    }\n",
       "\n",
       "    .dataframe thead th {\n",
       "        text-align: right;\n",
       "    }\n",
       "</style>\n",
       "<table border=\"1\" class=\"dataframe\">\n",
       "  <thead>\n",
       "    <tr style=\"text-align: right;\">\n",
       "      <th></th>\n",
       "      <th>raportbenchmarkid</th>\n",
       "      <th>rtnperiodtypcd</th>\n",
       "      <th>postdt</th>\n",
       "      <th>bmrkrpttypnm</th>\n",
       "      <th>portbmrkprioritynum</th>\n",
       "      <th>invportid</th>\n",
       "      <th>has_aggrid_flag</th>\n",
       "    </tr>\n",
       "  </thead>\n",
       "  <tbody>\n",
       "    <tr>\n",
       "      <th>0</th>\n",
       "      <td>1</td>\n",
       "      <td>12MO</td>\n",
       "      <td>1976-12-31</td>\n",
       "      <td>Mgr Rpts</td>\n",
       "      <td>1</td>\n",
       "      <td>10600.0</td>\n",
       "      <td>1</td>\n",
       "    </tr>\n",
       "    <tr>\n",
       "      <th>1</th>\n",
       "      <td>1</td>\n",
       "      <td>12MO</td>\n",
       "      <td>1977-12-30</td>\n",
       "      <td>Mgr Rpts</td>\n",
       "      <td>1</td>\n",
       "      <td>10600.0</td>\n",
       "      <td>1</td>\n",
       "    </tr>\n",
       "    <tr>\n",
       "      <th>2</th>\n",
       "      <td>1</td>\n",
       "      <td>12MO</td>\n",
       "      <td>1978-12-29</td>\n",
       "      <td>Mgr Rpts</td>\n",
       "      <td>1</td>\n",
       "      <td>10600.0</td>\n",
       "      <td>1</td>\n",
       "    </tr>\n",
       "    <tr>\n",
       "      <th>3</th>\n",
       "      <td>1</td>\n",
       "      <td>12MO</td>\n",
       "      <td>1979-12-31</td>\n",
       "      <td>Mgr Rpts</td>\n",
       "      <td>1</td>\n",
       "      <td>10600.0</td>\n",
       "      <td>1</td>\n",
       "    </tr>\n",
       "    <tr>\n",
       "      <th>4</th>\n",
       "      <td>1</td>\n",
       "      <td>12MO</td>\n",
       "      <td>1980-12-31</td>\n",
       "      <td>Mgr Rpts</td>\n",
       "      <td>1</td>\n",
       "      <td>10600.0</td>\n",
       "      <td>1</td>\n",
       "    </tr>\n",
       "  </tbody>\n",
       "</table>\n",
       "</div>"
      ],
      "text/plain": [
       "   raportbenchmarkid rtnperiodtypcd     postdt bmrkrpttypnm  \\\n",
       "0                  1           12MO 1976-12-31     Mgr Rpts   \n",
       "1                  1           12MO 1977-12-30     Mgr Rpts   \n",
       "2                  1           12MO 1978-12-29     Mgr Rpts   \n",
       "3                  1           12MO 1979-12-31     Mgr Rpts   \n",
       "4                  1           12MO 1980-12-31     Mgr Rpts   \n",
       "\n",
       "   portbmrkprioritynum  invportid  has_aggrid_flag  \n",
       "0                    1    10600.0                1  \n",
       "1                    1    10600.0                1  \n",
       "2                    1    10600.0                1  \n",
       "3                    1    10600.0                1  \n",
       "4                    1    10600.0                1  "
      ]
     },
     "execution_count": 18,
     "metadata": {},
     "output_type": "execute_result"
    }
   ],
   "source": [
    "test_df.head()"
   ]
  },
  {
   "cell_type": "code",
   "execution_count": 19,
   "metadata": {},
   "outputs": [
    {
     "name": "stdout",
     "output_type": "stream",
     "text": [
      "<class 'pandas.core.frame.DataFrame'>\n",
      "RangeIndex: 3484212 entries, 0 to 3484211\n",
      "Data columns (total 7 columns):\n",
      "raportbenchmarkid      int64\n",
      "rtnperiodtypcd         object\n",
      "postdt                 datetime64[ns]\n",
      "bmrkrpttypnm           object\n",
      "portbmrkprioritynum    int64\n",
      "invportid              float64\n",
      "has_aggrid_flag        int64\n",
      "dtypes: datetime64[ns](1), float64(1), int64(3), object(2)\n",
      "memory usage: 186.1+ MB\n"
     ]
    }
   ],
   "source": [
    "test_df.info()"
   ]
  },
  {
   "cell_type": "code",
   "execution_count": 20,
   "metadata": {
    "collapsed": true
   },
   "outputs": [],
   "source": [
    "new_raportbenchmarkid_list = []\n",
    "new_date_list = []\n",
    "new_rtntyp_list = []\n",
    "new_bmrkrpttypnm_list = []\n",
    "new_portbmrkprioritynum_list = []\n",
    "new_invportid_list = []\n",
    "new_hasaggrid_list = []\n",
    "\n",
    "for raportbenchmarkid, rtnperiodtypcd, postdt, bmrkrpttypnm, portbmrkprioritynum, invportid, has_aggrid_flag in test_df.itertuples(index=False):\n",
    "    if rtnperiodtypcd == '12MO':\n",
    "        for d in pd.date_range(end=postdt, periods=12, freq='MS'):\n",
    "            new_date_list.append(d)\n",
    "            new_raportbenchmarkid_list.append(raportbenchmarkid)\n",
    "            new_rtntyp_list.append(rtnperiodtypcd)\n",
    "            new_bmrkrpttypnm_list.append(bmrkrpttypnm)\n",
    "            new_portbmrkprioritynum_list.append(portbmrkprioritynum)\n",
    "            new_invportid_list.append(invportid)\n",
    "            new_hasaggrid_list.append(has_aggrid_flag)\n",
    "    elif rtnperiodtypcd == '6MO':\n",
    "        for d in pd.date_range(end=postdt, periods=6, freq='MS'):\n",
    "            new_date_list.append(d)\n",
    "            new_raportbenchmarkid_list.append(raportbenchmarkid)\n",
    "            new_rtntyp_list.append(rtnperiodtypcd)\n",
    "            new_bmrkrpttypnm_list.append(bmrkrpttypnm)\n",
    "            new_portbmrkprioritynum_list.append(portbmrkprioritynum)\n",
    "            new_invportid_list.append(invportid)\n",
    "            new_hasaggrid_list.append(has_aggrid_flag)\n",
    "    elif rtnperiodtypcd == '3MO':\n",
    "        for d in pd.date_range(end=postdt, periods=3, freq='MS'):\n",
    "            new_date_list.append(d)\n",
    "            new_raportbenchmarkid_list.append(raportbenchmarkid)\n",
    "            new_rtntyp_list.append(rtnperiodtypcd)\n",
    "            new_bmrkrpttypnm_list.append(bmrkrpttypnm)\n",
    "            new_portbmrkprioritynum_list.append(portbmrkprioritynum)\n",
    "            new_invportid_list.append(invportid)\n",
    "            new_hasaggrid_list.append(has_aggrid_flag)\n",
    "    elif rtnperiodtypcd == '1MO':\n",
    "        new_date_list.append(postdt.replace(day=1))\n",
    "        new_raportbenchmarkid_list.append(raportbenchmarkid)\n",
    "        new_rtntyp_list.append(rtnperiodtypcd)\n",
    "        new_bmrkrpttypnm_list.append(bmrkrpttypnm)\n",
    "        new_portbmrkprioritynum_list.append(portbmrkprioritynum)\n",
    "        new_invportid_list.append(invportid)\n",
    "        new_hasaggrid_list.append(has_aggrid_flag)\n",
    "    else:\n",
    "        print(\"Fail\")"
   ]
  },
  {
   "cell_type": "code",
   "execution_count": 21,
   "metadata": {},
   "outputs": [
    {
     "data": {
      "text/html": [
       "<div>\n",
       "<style scoped>\n",
       "    .dataframe tbody tr th:only-of-type {\n",
       "        vertical-align: middle;\n",
       "    }\n",
       "\n",
       "    .dataframe tbody tr th {\n",
       "        vertical-align: top;\n",
       "    }\n",
       "\n",
       "    .dataframe thead th {\n",
       "        text-align: right;\n",
       "    }\n",
       "</style>\n",
       "<table border=\"1\" class=\"dataframe\">\n",
       "  <thead>\n",
       "    <tr style=\"text-align: right;\">\n",
       "      <th></th>\n",
       "      <th>raportbenchmarkid_new</th>\n",
       "      <th>postdt_new</th>\n",
       "      <th>rtntypcd_new</th>\n",
       "      <th>bmrkrpttypnm_new</th>\n",
       "      <th>portbmrkprioritynum_new</th>\n",
       "      <th>invportid_new</th>\n",
       "      <th>hasaggrid_new</th>\n",
       "    </tr>\n",
       "  </thead>\n",
       "  <tbody>\n",
       "    <tr>\n",
       "      <th>0</th>\n",
       "      <td>1</td>\n",
       "      <td>1976-01-01</td>\n",
       "      <td>12MO</td>\n",
       "      <td>Mgr Rpts</td>\n",
       "      <td>1</td>\n",
       "      <td>10600.0</td>\n",
       "      <td>1</td>\n",
       "    </tr>\n",
       "    <tr>\n",
       "      <th>1</th>\n",
       "      <td>1</td>\n",
       "      <td>1976-02-01</td>\n",
       "      <td>12MO</td>\n",
       "      <td>Mgr Rpts</td>\n",
       "      <td>1</td>\n",
       "      <td>10600.0</td>\n",
       "      <td>1</td>\n",
       "    </tr>\n",
       "    <tr>\n",
       "      <th>2</th>\n",
       "      <td>1</td>\n",
       "      <td>1976-03-01</td>\n",
       "      <td>12MO</td>\n",
       "      <td>Mgr Rpts</td>\n",
       "      <td>1</td>\n",
       "      <td>10600.0</td>\n",
       "      <td>1</td>\n",
       "    </tr>\n",
       "    <tr>\n",
       "      <th>3</th>\n",
       "      <td>1</td>\n",
       "      <td>1976-04-01</td>\n",
       "      <td>12MO</td>\n",
       "      <td>Mgr Rpts</td>\n",
       "      <td>1</td>\n",
       "      <td>10600.0</td>\n",
       "      <td>1</td>\n",
       "    </tr>\n",
       "    <tr>\n",
       "      <th>4</th>\n",
       "      <td>1</td>\n",
       "      <td>1976-05-01</td>\n",
       "      <td>12MO</td>\n",
       "      <td>Mgr Rpts</td>\n",
       "      <td>1</td>\n",
       "      <td>10600.0</td>\n",
       "      <td>1</td>\n",
       "    </tr>\n",
       "  </tbody>\n",
       "</table>\n",
       "</div>"
      ],
      "text/plain": [
       "   raportbenchmarkid_new postdt_new rtntypcd_new bmrkrpttypnm_new  \\\n",
       "0                      1 1976-01-01         12MO         Mgr Rpts   \n",
       "1                      1 1976-02-01         12MO         Mgr Rpts   \n",
       "2                      1 1976-03-01         12MO         Mgr Rpts   \n",
       "3                      1 1976-04-01         12MO         Mgr Rpts   \n",
       "4                      1 1976-05-01         12MO         Mgr Rpts   \n",
       "\n",
       "   portbmrkprioritynum_new  invportid_new  hasaggrid_new  \n",
       "0                        1        10600.0              1  \n",
       "1                        1        10600.0              1  \n",
       "2                        1        10600.0              1  \n",
       "3                        1        10600.0              1  \n",
       "4                        1        10600.0              1  "
      ]
     },
     "execution_count": 21,
     "metadata": {},
     "output_type": "execute_result"
    }
   ],
   "source": [
    "new_df = pd.DataFrame(columns=['raportbenchmarkid_new', 'postdt_new', 'rtntypcd_new', \n",
    "                               'bmrkrpttypnm_new', 'portbmrkprioritynum_new', 'invportid_new', 'hasaggrid_new'])\n",
    "\n",
    "new_df['raportbenchmarkid_new'] = new_raportbenchmarkid_list\n",
    "new_df['postdt_new'] = new_date_list\n",
    "new_df['rtntypcd_new'] = new_rtntyp_list\n",
    "new_df['bmrkrpttypnm_new'] = new_bmrkrpttypnm_list\n",
    "new_df['portbmrkprioritynum_new'] = new_portbmrkprioritynum_list\n",
    "new_df['invportid_new'] = new_invportid_list\n",
    "new_df['hasaggrid_new'] = new_hasaggrid_list\n",
    "new_df.head()"
   ]
  },
  {
   "cell_type": "code",
   "execution_count": 22,
   "metadata": {},
   "outputs": [
    {
     "data": {
      "text/plain": [
       "(3687427, 7)"
      ]
     },
     "execution_count": 22,
     "metadata": {},
     "output_type": "execute_result"
    }
   ],
   "source": [
    "new_df.shape"
   ]
  },
  {
   "cell_type": "markdown",
   "metadata": {},
   "source": [
    "### Export to Excel"
   ]
  },
  {
   "cell_type": "code",
   "execution_count": 23,
   "metadata": {
    "collapsed": true
   },
   "outputs": [],
   "source": [
    "#new_df.to_csv('new_df_0917.csv')"
   ]
  },
  {
   "cell_type": "code",
   "execution_count": 24,
   "metadata": {
    "collapsed": true
   },
   "outputs": [],
   "source": [
    "#final_df.to_csv('final_df_0917.csv')"
   ]
  },
  {
   "cell_type": "markdown",
   "metadata": {},
   "source": [
    "### Matching with Portfolio Type"
   ]
  },
  {
   "cell_type": "code",
   "execution_count": 25,
   "metadata": {
    "collapsed": true
   },
   "outputs": [],
   "source": [
    "portfolio_df = pd.read_csv('portfolio_types.csv')"
   ]
  },
  {
   "cell_type": "code",
   "execution_count": 26,
   "metadata": {
    "scrolled": true
   },
   "outputs": [
    {
     "data": {
      "text/html": [
       "<div>\n",
       "<style scoped>\n",
       "    .dataframe tbody tr th:only-of-type {\n",
       "        vertical-align: middle;\n",
       "    }\n",
       "\n",
       "    .dataframe tbody tr th {\n",
       "        vertical-align: top;\n",
       "    }\n",
       "\n",
       "    .dataframe thead th {\n",
       "        text-align: right;\n",
       "    }\n",
       "</style>\n",
       "<table border=\"1\" class=\"dataframe\">\n",
       "  <thead>\n",
       "    <tr style=\"text-align: right;\">\n",
       "      <th></th>\n",
       "      <th>portfoliouid</th>\n",
       "      <th>InvestmentPortfolioTypeCode</th>\n",
       "      <th>aggrid</th>\n",
       "    </tr>\n",
       "  </thead>\n",
       "  <tbody>\n",
       "    <tr>\n",
       "      <th>0</th>\n",
       "      <td>195700</td>\n",
       "      <td>AM</td>\n",
       "      <td>159317735.0</td>\n",
       "    </tr>\n",
       "    <tr>\n",
       "      <th>1</th>\n",
       "      <td>109349</td>\n",
       "      <td>GM</td>\n",
       "      <td>87279079.0</td>\n",
       "    </tr>\n",
       "    <tr>\n",
       "      <th>2</th>\n",
       "      <td>86400</td>\n",
       "      <td>FL</td>\n",
       "      <td>69160435.0</td>\n",
       "    </tr>\n",
       "    <tr>\n",
       "      <th>3</th>\n",
       "      <td>9893</td>\n",
       "      <td>AT</td>\n",
       "      <td>7771398.0</td>\n",
       "    </tr>\n",
       "    <tr>\n",
       "      <th>4</th>\n",
       "      <td>80719</td>\n",
       "      <td>GA</td>\n",
       "      <td>64706795.0</td>\n",
       "    </tr>\n",
       "  </tbody>\n",
       "</table>\n",
       "</div>"
      ],
      "text/plain": [
       "   portfoliouid InvestmentPortfolioTypeCode       aggrid\n",
       "0        195700                          AM  159317735.0\n",
       "1        109349                          GM   87279079.0\n",
       "2         86400                          FL   69160435.0\n",
       "3          9893                          AT    7771398.0\n",
       "4         80719                          GA   64706795.0"
      ]
     },
     "execution_count": 26,
     "metadata": {},
     "output_type": "execute_result"
    }
   ],
   "source": [
    "portfolio_df.rename({'AGGRID':'aggrid'}, axis=1, inplace=True)\n",
    "portfolio_df.head()"
   ]
  },
  {
   "cell_type": "code",
   "execution_count": 27,
   "metadata": {},
   "outputs": [
    {
     "data": {
      "text/plain": [
       "array(['raportbenchmarkid_new', 'postdt_new', 'rtntypcd_new',\n",
       "       'bmrkrpttypnm_new', 'portbmrkprioritynum_new', 'invportid_new',\n",
       "       'hasaggrid_new'], dtype=object)"
      ]
     },
     "execution_count": 27,
     "metadata": {},
     "output_type": "execute_result"
    }
   ],
   "source": [
    "new_df.columns.values"
   ]
  },
  {
   "cell_type": "code",
   "execution_count": 28,
   "metadata": {
    "collapsed": true
   },
   "outputs": [],
   "source": [
    "new_df.rename({'invportid_new':'aggrid'}, axis=1, inplace=True)"
   ]
  },
  {
   "cell_type": "code",
   "execution_count": 29,
   "metadata": {},
   "outputs": [
    {
     "data": {
      "text/html": [
       "<div>\n",
       "<style scoped>\n",
       "    .dataframe tbody tr th:only-of-type {\n",
       "        vertical-align: middle;\n",
       "    }\n",
       "\n",
       "    .dataframe tbody tr th {\n",
       "        vertical-align: top;\n",
       "    }\n",
       "\n",
       "    .dataframe thead th {\n",
       "        text-align: right;\n",
       "    }\n",
       "</style>\n",
       "<table border=\"1\" class=\"dataframe\">\n",
       "  <thead>\n",
       "    <tr style=\"text-align: right;\">\n",
       "      <th></th>\n",
       "      <th>raportbenchmarkid_new</th>\n",
       "      <th>postdt_new</th>\n",
       "      <th>rtntypcd_new</th>\n",
       "      <th>bmrkrpttypnm_new</th>\n",
       "      <th>portbmrkprioritynum_new</th>\n",
       "      <th>aggrid</th>\n",
       "      <th>hasaggrid_new</th>\n",
       "    </tr>\n",
       "  </thead>\n",
       "  <tbody>\n",
       "    <tr>\n",
       "      <th>0</th>\n",
       "      <td>1</td>\n",
       "      <td>1976-01-01</td>\n",
       "      <td>12MO</td>\n",
       "      <td>Mgr Rpts</td>\n",
       "      <td>1</td>\n",
       "      <td>10600.0</td>\n",
       "      <td>1</td>\n",
       "    </tr>\n",
       "    <tr>\n",
       "      <th>1</th>\n",
       "      <td>1</td>\n",
       "      <td>1976-02-01</td>\n",
       "      <td>12MO</td>\n",
       "      <td>Mgr Rpts</td>\n",
       "      <td>1</td>\n",
       "      <td>10600.0</td>\n",
       "      <td>1</td>\n",
       "    </tr>\n",
       "    <tr>\n",
       "      <th>2</th>\n",
       "      <td>1</td>\n",
       "      <td>1976-03-01</td>\n",
       "      <td>12MO</td>\n",
       "      <td>Mgr Rpts</td>\n",
       "      <td>1</td>\n",
       "      <td>10600.0</td>\n",
       "      <td>1</td>\n",
       "    </tr>\n",
       "    <tr>\n",
       "      <th>3</th>\n",
       "      <td>1</td>\n",
       "      <td>1976-04-01</td>\n",
       "      <td>12MO</td>\n",
       "      <td>Mgr Rpts</td>\n",
       "      <td>1</td>\n",
       "      <td>10600.0</td>\n",
       "      <td>1</td>\n",
       "    </tr>\n",
       "    <tr>\n",
       "      <th>4</th>\n",
       "      <td>1</td>\n",
       "      <td>1976-05-01</td>\n",
       "      <td>12MO</td>\n",
       "      <td>Mgr Rpts</td>\n",
       "      <td>1</td>\n",
       "      <td>10600.0</td>\n",
       "      <td>1</td>\n",
       "    </tr>\n",
       "  </tbody>\n",
       "</table>\n",
       "</div>"
      ],
      "text/plain": [
       "   raportbenchmarkid_new postdt_new rtntypcd_new bmrkrpttypnm_new  \\\n",
       "0                      1 1976-01-01         12MO         Mgr Rpts   \n",
       "1                      1 1976-02-01         12MO         Mgr Rpts   \n",
       "2                      1 1976-03-01         12MO         Mgr Rpts   \n",
       "3                      1 1976-04-01         12MO         Mgr Rpts   \n",
       "4                      1 1976-05-01         12MO         Mgr Rpts   \n",
       "\n",
       "   portbmrkprioritynum_new   aggrid  hasaggrid_new  \n",
       "0                        1  10600.0              1  \n",
       "1                        1  10600.0              1  \n",
       "2                        1  10600.0              1  \n",
       "3                        1  10600.0              1  \n",
       "4                        1  10600.0              1  "
      ]
     },
     "execution_count": 29,
     "metadata": {},
     "output_type": "execute_result"
    }
   ],
   "source": [
    "new_df.head()"
   ]
  },
  {
   "cell_type": "markdown",
   "metadata": {},
   "source": [
    "### Match the Dataframes"
   ]
  },
  {
   "cell_type": "code",
   "execution_count": 31,
   "metadata": {},
   "outputs": [
    {
     "ename": "MemoryError",
     "evalue": "",
     "output_type": "error",
     "traceback": [
      "\u001b[1;31m---------------------------------------------------------------------------\u001b[0m",
      "\u001b[1;31mMemoryError\u001b[0m                               Traceback (most recent call last)",
      "\u001b[1;32m<ipython-input-31-fb305a70af3d>\u001b[0m in \u001b[0;36m<module>\u001b[1;34m()\u001b[0m\n\u001b[1;32m----> 1\u001b[1;33m \u001b[0mfinal_df\u001b[0m \u001b[1;33m=\u001b[0m \u001b[0mpd\u001b[0m\u001b[1;33m.\u001b[0m\u001b[0mmerge\u001b[0m\u001b[1;33m(\u001b[0m\u001b[0mnew_df\u001b[0m\u001b[1;33m,\u001b[0m \u001b[0mportfolio_df\u001b[0m\u001b[1;33m,\u001b[0m \u001b[0mon\u001b[0m\u001b[1;33m=\u001b[0m\u001b[1;34m'aggrid'\u001b[0m\u001b[1;33m,\u001b[0m \u001b[0mhow\u001b[0m\u001b[1;33m=\u001b[0m\u001b[1;34m'left'\u001b[0m\u001b[1;33m)\u001b[0m\u001b[1;33m\u001b[0m\u001b[0m\n\u001b[0m\u001b[0;32m      2\u001b[0m \u001b[0mfinal_df\u001b[0m\u001b[1;33m.\u001b[0m\u001b[0mhead\u001b[0m\u001b[1;33m(\u001b[0m\u001b[1;33m)\u001b[0m\u001b[1;33m\u001b[0m\u001b[0m\n",
      "\u001b[1;32mc:\\users\\kpmalc\\desktop\\venv\\lib\\site-packages\\pandas\\core\\reshape\\merge.py\u001b[0m in \u001b[0;36mmerge\u001b[1;34m(left, right, how, on, left_on, right_on, left_index, right_index, sort, suffixes, copy, indicator, validate)\u001b[0m\n\u001b[0;32m     60\u001b[0m                          \u001b[0mcopy\u001b[0m\u001b[1;33m=\u001b[0m\u001b[0mcopy\u001b[0m\u001b[1;33m,\u001b[0m \u001b[0mindicator\u001b[0m\u001b[1;33m=\u001b[0m\u001b[0mindicator\u001b[0m\u001b[1;33m,\u001b[0m\u001b[1;33m\u001b[0m\u001b[0m\n\u001b[0;32m     61\u001b[0m                          validate=validate)\n\u001b[1;32m---> 62\u001b[1;33m     \u001b[1;32mreturn\u001b[0m \u001b[0mop\u001b[0m\u001b[1;33m.\u001b[0m\u001b[0mget_result\u001b[0m\u001b[1;33m(\u001b[0m\u001b[1;33m)\u001b[0m\u001b[1;33m\u001b[0m\u001b[0m\n\u001b[0m\u001b[0;32m     63\u001b[0m \u001b[1;33m\u001b[0m\u001b[0m\n\u001b[0;32m     64\u001b[0m \u001b[1;33m\u001b[0m\u001b[0m\n",
      "\u001b[1;32mc:\\users\\kpmalc\\desktop\\venv\\lib\\site-packages\\pandas\\core\\reshape\\merge.py\u001b[0m in \u001b[0;36mget_result\u001b[1;34m(self)\u001b[0m\n\u001b[0;32m    566\u001b[0m                 self.left, self.right)\n\u001b[0;32m    567\u001b[0m \u001b[1;33m\u001b[0m\u001b[0m\n\u001b[1;32m--> 568\u001b[1;33m         \u001b[0mjoin_index\u001b[0m\u001b[1;33m,\u001b[0m \u001b[0mleft_indexer\u001b[0m\u001b[1;33m,\u001b[0m \u001b[0mright_indexer\u001b[0m \u001b[1;33m=\u001b[0m \u001b[0mself\u001b[0m\u001b[1;33m.\u001b[0m\u001b[0m_get_join_info\u001b[0m\u001b[1;33m(\u001b[0m\u001b[1;33m)\u001b[0m\u001b[1;33m\u001b[0m\u001b[0m\n\u001b[0m\u001b[0;32m    569\u001b[0m \u001b[1;33m\u001b[0m\u001b[0m\n\u001b[0;32m    570\u001b[0m         \u001b[0mldata\u001b[0m\u001b[1;33m,\u001b[0m \u001b[0mrdata\u001b[0m \u001b[1;33m=\u001b[0m \u001b[0mself\u001b[0m\u001b[1;33m.\u001b[0m\u001b[0mleft\u001b[0m\u001b[1;33m.\u001b[0m\u001b[0m_data\u001b[0m\u001b[1;33m,\u001b[0m \u001b[0mself\u001b[0m\u001b[1;33m.\u001b[0m\u001b[0mright\u001b[0m\u001b[1;33m.\u001b[0m\u001b[0m_data\u001b[0m\u001b[1;33m\u001b[0m\u001b[0m\n",
      "\u001b[1;32mc:\\users\\kpmalc\\desktop\\venv\\lib\\site-packages\\pandas\\core\\reshape\\merge.py\u001b[0m in \u001b[0;36m_get_join_info\u001b[1;34m(self)\u001b[0m\n\u001b[0;32m    775\u001b[0m         \u001b[1;32melse\u001b[0m\u001b[1;33m:\u001b[0m\u001b[1;33m\u001b[0m\u001b[0m\n\u001b[0;32m    776\u001b[0m             (left_indexer,\n\u001b[1;32m--> 777\u001b[1;33m              right_indexer) = self._get_join_indexers()\n\u001b[0m\u001b[0;32m    778\u001b[0m \u001b[1;33m\u001b[0m\u001b[0m\n\u001b[0;32m    779\u001b[0m             \u001b[1;32mif\u001b[0m \u001b[0mself\u001b[0m\u001b[1;33m.\u001b[0m\u001b[0mright_index\u001b[0m\u001b[1;33m:\u001b[0m\u001b[1;33m\u001b[0m\u001b[0m\n",
      "\u001b[1;32mc:\\users\\kpmalc\\desktop\\venv\\lib\\site-packages\\pandas\\core\\reshape\\merge.py\u001b[0m in \u001b[0;36m_get_join_indexers\u001b[1;34m(self)\u001b[0m\n\u001b[0;32m    754\u001b[0m                                   \u001b[0mself\u001b[0m\u001b[1;33m.\u001b[0m\u001b[0mright_join_keys\u001b[0m\u001b[1;33m,\u001b[0m\u001b[1;33m\u001b[0m\u001b[0m\n\u001b[0;32m    755\u001b[0m                                   \u001b[0msort\u001b[0m\u001b[1;33m=\u001b[0m\u001b[0mself\u001b[0m\u001b[1;33m.\u001b[0m\u001b[0msort\u001b[0m\u001b[1;33m,\u001b[0m\u001b[1;33m\u001b[0m\u001b[0m\n\u001b[1;32m--> 756\u001b[1;33m                                   how=self.how)\n\u001b[0m\u001b[0;32m    757\u001b[0m \u001b[1;33m\u001b[0m\u001b[0m\n\u001b[0;32m    758\u001b[0m     \u001b[1;32mdef\u001b[0m \u001b[0m_get_join_info\u001b[0m\u001b[1;33m(\u001b[0m\u001b[0mself\u001b[0m\u001b[1;33m)\u001b[0m\u001b[1;33m:\u001b[0m\u001b[1;33m\u001b[0m\u001b[0m\n",
      "\u001b[1;32mc:\\users\\kpmalc\\desktop\\venv\\lib\\site-packages\\pandas\\core\\reshape\\merge.py\u001b[0m in \u001b[0;36m_get_join_indexers\u001b[1;34m(left_keys, right_keys, sort, how, **kwargs)\u001b[0m\n\u001b[0;32m   1146\u001b[0m     \u001b[0mjoin_func\u001b[0m \u001b[1;33m=\u001b[0m \u001b[0m_join_functions\u001b[0m\u001b[1;33m[\u001b[0m\u001b[0mhow\u001b[0m\u001b[1;33m]\u001b[0m\u001b[1;33m\u001b[0m\u001b[0m\n\u001b[0;32m   1147\u001b[0m \u001b[1;33m\u001b[0m\u001b[0m\n\u001b[1;32m-> 1148\u001b[1;33m     \u001b[1;32mreturn\u001b[0m \u001b[0mjoin_func\u001b[0m\u001b[1;33m(\u001b[0m\u001b[0mlkey\u001b[0m\u001b[1;33m,\u001b[0m \u001b[0mrkey\u001b[0m\u001b[1;33m,\u001b[0m \u001b[0mcount\u001b[0m\u001b[1;33m,\u001b[0m \u001b[1;33m**\u001b[0m\u001b[0mkwargs\u001b[0m\u001b[1;33m)\u001b[0m\u001b[1;33m\u001b[0m\u001b[0m\n\u001b[0m\u001b[0;32m   1149\u001b[0m \u001b[1;33m\u001b[0m\u001b[0m\n\u001b[0;32m   1150\u001b[0m \u001b[1;33m\u001b[0m\u001b[0m\n",
      "\u001b[1;32mpandas\\_libs\\join.pyx\u001b[0m in \u001b[0;36mpandas._libs.join.left_outer_join\u001b[1;34m()\u001b[0m\n",
      "\u001b[1;31mMemoryError\u001b[0m: "
     ]
    }
   ],
   "source": [
    "final_df = pd.merge(new_df, portfolio_df, on='aggrid', how='left')\n",
    "final_df.head()"
   ]
  },
  {
   "cell_type": "code",
   "execution_count": null,
   "metadata": {
    "collapsed": true
   },
   "outputs": [],
   "source": []
  },
  {
   "cell_type": "code",
   "execution_count": null,
   "metadata": {
    "collapsed": true
   },
   "outputs": [],
   "source": []
  },
  {
   "cell_type": "code",
   "execution_count": null,
   "metadata": {
    "collapsed": true
   },
   "outputs": [],
   "source": []
  },
  {
   "cell_type": "code",
   "execution_count": null,
   "metadata": {
    "collapsed": true
   },
   "outputs": [],
   "source": []
  },
  {
   "cell_type": "code",
   "execution_count": null,
   "metadata": {
    "collapsed": true
   },
   "outputs": [],
   "source": []
  },
  {
   "cell_type": "code",
   "execution_count": null,
   "metadata": {
    "collapsed": true
   },
   "outputs": [],
   "source": []
  },
  {
   "cell_type": "code",
   "execution_count": null,
   "metadata": {
    "collapsed": true
   },
   "outputs": [],
   "source": []
  },
  {
   "cell_type": "code",
   "execution_count": null,
   "metadata": {
    "collapsed": true
   },
   "outputs": [],
   "source": []
  },
  {
   "cell_type": "code",
   "execution_count": null,
   "metadata": {
    "collapsed": true
   },
   "outputs": [],
   "source": []
  },
  {
   "cell_type": "code",
   "execution_count": null,
   "metadata": {
    "collapsed": true
   },
   "outputs": [],
   "source": []
  },
  {
   "cell_type": "code",
   "execution_count": null,
   "metadata": {
    "collapsed": true
   },
   "outputs": [],
   "source": []
  },
  {
   "cell_type": "code",
   "execution_count": null,
   "metadata": {
    "collapsed": true
   },
   "outputs": [],
   "source": []
  },
  {
   "cell_type": "code",
   "execution_count": null,
   "metadata": {
    "collapsed": true
   },
   "outputs": [],
   "source": []
  }
 ],
 "metadata": {
  "kernelspec": {
   "display_name": "Python 3",
   "language": "python",
   "name": "python3"
  },
  "language_info": {
   "codemirror_mode": {
    "name": "ipython",
    "version": 3
   },
   "file_extension": ".py",
   "mimetype": "text/x-python",
   "name": "python",
   "nbconvert_exporter": "python",
   "pygments_lexer": "ipython3",
   "version": "3.6.1"
  }
 },
 "nbformat": 4,
 "nbformat_minor": 2
}
