{
 "cells": [
  {
   "cell_type": "code",
   "execution_count": 1,
   "metadata": {
    "collapsed": true
   },
   "outputs": [],
   "source": [
    "import os\n",
    "import pyodbc\n",
    "import numpy as np\n",
    "import pandas as pd\n",
    "from datetime import datetime\n",
    "import matplotlib.pyplot as plt\n",
    "%matplotlib inline"
   ]
  },
  {
   "cell_type": "code",
   "execution_count": 57,
   "metadata": {
    "collapsed": true
   },
   "outputs": [],
   "source": [
    "cnxn = pyodbc.connect('Driver={SQL Server Native Client 11.0};\\\n",
    "                       Server=lasr-sqldb-uat,17001;\\\n",
    "                       Database=IM_I_IDWBRRESULTS_S;\\\n",
    "                       Trusted_Connection=yes;')"
   ]
  },
  {
   "cell_type": "code",
   "execution_count": 5,
   "metadata": {
    "collapsed": true
   },
   "outputs": [],
   "source": [
    "sql_query_monthly = \"\"\"\n",
    "select \n",
    "aggrid,\n",
    "postdt,\n",
    "rtntyp,\n",
    "totrtn1mo,\n",
    "totrtn3mo,\n",
    "totrtn6mo,\n",
    "totrtn12mo\n",
    "from zRed05_IM_I_IDWBRRESULTS_S.dbo.MA_PP_PFMHIST\n",
    "where incltyp = 'I' and crncyid = 1\n",
    "\"\"\"\n",
    "# Save the data \n",
    "df_monthly = pd.read_sql(sql_query_monthly, cnxn)"
   ]
  },
  {
   "cell_type": "code",
   "execution_count": 58,
   "metadata": {
    "collapsed": true
   },
   "outputs": [],
   "source": [
    "sql_query_daily = \"\"\"\n",
    "select\n",
    "aggrid,\n",
    "DATEADD(m, DATEDIFF(m, 0, postdt), 0) as postdt_m\n",
    "from zRed05_IM_I_IDWBRRESULTS_S.dbo.MA_PP_PFHIST\n",
    "where INCLTYP = 'I' and TOTRTNDAY is not NULL  and CRNCYID = 1\n",
    "group by aggrid, DATEADD(m, DATEDIFF(m, 0, postdt), 0)\n",
    "having sum(1) >= 15    \n",
    "\"\"\"\n",
    "# Save the data \n",
    "df_daily = pd.read_sql(sql_query_daily, cnxn)"
   ]
  },
  {
   "cell_type": "code",
   "execution_count": 61,
   "metadata": {},
   "outputs": [
    {
     "ename": "ProgrammingError",
     "evalue": "Attempt to use a closed connection.",
     "output_type": "error",
     "traceback": [
      "\u001b[1;31m---------------------------------------------------------------------------\u001b[0m",
      "\u001b[1;31mProgrammingError\u001b[0m                          Traceback (most recent call last)",
      "\u001b[1;32m<ipython-input-61-746c33b4e967>\u001b[0m in \u001b[0;36m<module>\u001b[1;34m()\u001b[0m\n\u001b[0;32m      1\u001b[0m \u001b[1;31m# Close the connection with LASR\u001b[0m\u001b[1;33m\u001b[0m\u001b[1;33m\u001b[0m\u001b[0m\n\u001b[1;32m----> 2\u001b[1;33m \u001b[0mcnxn\u001b[0m\u001b[1;33m.\u001b[0m\u001b[0mclose\u001b[0m\u001b[1;33m(\u001b[0m\u001b[1;33m)\u001b[0m\u001b[1;33m\u001b[0m\u001b[0m\n\u001b[0m",
      "\u001b[1;31mProgrammingError\u001b[0m: Attempt to use a closed connection."
     ]
    }
   ],
   "source": [
    "# Close the connection with LASR\n",
    "cnxn.close()"
   ]
  },
  {
   "cell_type": "code",
   "execution_count": 59,
   "metadata": {},
   "outputs": [
    {
     "name": "stdout",
     "output_type": "stream",
     "text": [
      "(9042541, 2)\n"
     ]
    },
    {
     "data": {
      "text/html": [
       "<div>\n",
       "<style>\n",
       "    .dataframe thead tr:only-child th {\n",
       "        text-align: right;\n",
       "    }\n",
       "\n",
       "    .dataframe thead th {\n",
       "        text-align: left;\n",
       "    }\n",
       "\n",
       "    .dataframe tbody tr th {\n",
       "        vertical-align: top;\n",
       "    }\n",
       "</style>\n",
       "<table border=\"1\" class=\"dataframe\">\n",
       "  <thead>\n",
       "    <tr style=\"text-align: right;\">\n",
       "      <th></th>\n",
       "      <th>aggrid</th>\n",
       "      <th>postdt_m</th>\n",
       "    </tr>\n",
       "  </thead>\n",
       "  <tbody>\n",
       "    <tr>\n",
       "      <th>0</th>\n",
       "      <td>78157052</td>\n",
       "      <td>2002-02-01</td>\n",
       "    </tr>\n",
       "    <tr>\n",
       "      <th>1</th>\n",
       "      <td>114049604</td>\n",
       "      <td>2001-09-01</td>\n",
       "    </tr>\n",
       "    <tr>\n",
       "      <th>2</th>\n",
       "      <td>152142922</td>\n",
       "      <td>2001-10-01</td>\n",
       "    </tr>\n",
       "    <tr>\n",
       "      <th>3</th>\n",
       "      <td>23112689</td>\n",
       "      <td>2001-12-01</td>\n",
       "    </tr>\n",
       "    <tr>\n",
       "      <th>4</th>\n",
       "      <td>149050063</td>\n",
       "      <td>2001-11-01</td>\n",
       "    </tr>\n",
       "  </tbody>\n",
       "</table>\n",
       "</div>"
      ],
      "text/plain": [
       "      aggrid   postdt_m\n",
       "0   78157052 2002-02-01\n",
       "1  114049604 2001-09-01\n",
       "2  152142922 2001-10-01\n",
       "3   23112689 2001-12-01\n",
       "4  149050063 2001-11-01"
      ]
     },
     "execution_count": 59,
     "metadata": {},
     "output_type": "execute_result"
    }
   ],
   "source": [
    "print(df_daily.shape)\n",
    "df_daily.head()"
   ]
  },
  {
   "cell_type": "code",
   "execution_count": 10,
   "metadata": {},
   "outputs": [
    {
     "name": "stdout",
     "output_type": "stream",
     "text": [
      "(17356519, 7)\n"
     ]
    },
    {
     "data": {
      "text/html": [
       "<div>\n",
       "<style>\n",
       "    .dataframe thead tr:only-child th {\n",
       "        text-align: right;\n",
       "    }\n",
       "\n",
       "    .dataframe thead th {\n",
       "        text-align: left;\n",
       "    }\n",
       "\n",
       "    .dataframe tbody tr th {\n",
       "        vertical-align: top;\n",
       "    }\n",
       "</style>\n",
       "<table border=\"1\" class=\"dataframe\">\n",
       "  <thead>\n",
       "    <tr style=\"text-align: right;\">\n",
       "      <th></th>\n",
       "      <th>aggrid</th>\n",
       "      <th>postdt</th>\n",
       "      <th>rtntyp</th>\n",
       "      <th>totrtn1mo</th>\n",
       "      <th>totrtn3mo</th>\n",
       "      <th>totrtn6mo</th>\n",
       "      <th>totrtn12mo</th>\n",
       "    </tr>\n",
       "  </thead>\n",
       "  <tbody>\n",
       "    <tr>\n",
       "      <th>0</th>\n",
       "      <td>210740437</td>\n",
       "      <td>2015-10-30</td>\n",
       "      <td>M</td>\n",
       "      <td>NaN</td>\n",
       "      <td>NaN</td>\n",
       "      <td>NaN</td>\n",
       "      <td>NaN</td>\n",
       "    </tr>\n",
       "    <tr>\n",
       "      <th>1</th>\n",
       "      <td>63751950</td>\n",
       "      <td>2013-11-29</td>\n",
       "      <td>M</td>\n",
       "      <td>NaN</td>\n",
       "      <td>NaN</td>\n",
       "      <td>NaN</td>\n",
       "      <td>NaN</td>\n",
       "    </tr>\n",
       "    <tr>\n",
       "      <th>2</th>\n",
       "      <td>65706796</td>\n",
       "      <td>2013-11-29</td>\n",
       "      <td>M</td>\n",
       "      <td>NaN</td>\n",
       "      <td>NaN</td>\n",
       "      <td>NaN</td>\n",
       "      <td>NaN</td>\n",
       "    </tr>\n",
       "    <tr>\n",
       "      <th>3</th>\n",
       "      <td>10230972</td>\n",
       "      <td>2007-02-28</td>\n",
       "      <td>M</td>\n",
       "      <td>NaN</td>\n",
       "      <td>NaN</td>\n",
       "      <td>NaN</td>\n",
       "      <td>NaN</td>\n",
       "    </tr>\n",
       "    <tr>\n",
       "      <th>4</th>\n",
       "      <td>133720008</td>\n",
       "      <td>2009-06-30</td>\n",
       "      <td>M</td>\n",
       "      <td>NaN</td>\n",
       "      <td>NaN</td>\n",
       "      <td>NaN</td>\n",
       "      <td>NaN</td>\n",
       "    </tr>\n",
       "  </tbody>\n",
       "</table>\n",
       "</div>"
      ],
      "text/plain": [
       "      aggrid     postdt rtntyp  totrtn1mo  totrtn3mo  totrtn6mo  totrtn12mo\n",
       "0  210740437 2015-10-30      M        NaN        NaN        NaN         NaN\n",
       "1   63751950 2013-11-29      M        NaN        NaN        NaN         NaN\n",
       "2   65706796 2013-11-29      M        NaN        NaN        NaN         NaN\n",
       "3   10230972 2007-02-28      M        NaN        NaN        NaN         NaN\n",
       "4  133720008 2009-06-30      M        NaN        NaN        NaN         NaN"
      ]
     },
     "execution_count": 10,
     "metadata": {},
     "output_type": "execute_result"
    }
   ],
   "source": [
    "print(df_monthly.shape)\n",
    "df_monthly.head()"
   ]
  },
  {
   "cell_type": "markdown",
   "metadata": {},
   "source": [
    "# Fix up the data, starting with daily"
   ]
  },
  {
   "cell_type": "code",
   "execution_count": 62,
   "metadata": {},
   "outputs": [
    {
     "data": {
      "text/html": [
       "<div>\n",
       "<style>\n",
       "    .dataframe thead tr:only-child th {\n",
       "        text-align: right;\n",
       "    }\n",
       "\n",
       "    .dataframe thead th {\n",
       "        text-align: left;\n",
       "    }\n",
       "\n",
       "    .dataframe tbody tr th {\n",
       "        vertical-align: top;\n",
       "    }\n",
       "</style>\n",
       "<table border=\"1\" class=\"dataframe\">\n",
       "  <thead>\n",
       "    <tr style=\"text-align: right;\">\n",
       "      <th></th>\n",
       "      <th>aggrid</th>\n",
       "      <th>postdt_m</th>\n",
       "      <th>rtntyp</th>\n",
       "    </tr>\n",
       "  </thead>\n",
       "  <tbody>\n",
       "    <tr>\n",
       "      <th>0</th>\n",
       "      <td>78157052</td>\n",
       "      <td>2002-02-01</td>\n",
       "      <td>D</td>\n",
       "    </tr>\n",
       "    <tr>\n",
       "      <th>1</th>\n",
       "      <td>114049604</td>\n",
       "      <td>2001-09-01</td>\n",
       "      <td>D</td>\n",
       "    </tr>\n",
       "    <tr>\n",
       "      <th>2</th>\n",
       "      <td>152142922</td>\n",
       "      <td>2001-10-01</td>\n",
       "      <td>D</td>\n",
       "    </tr>\n",
       "    <tr>\n",
       "      <th>3</th>\n",
       "      <td>23112689</td>\n",
       "      <td>2001-12-01</td>\n",
       "      <td>D</td>\n",
       "    </tr>\n",
       "    <tr>\n",
       "      <th>4</th>\n",
       "      <td>149050063</td>\n",
       "      <td>2001-11-01</td>\n",
       "      <td>D</td>\n",
       "    </tr>\n",
       "  </tbody>\n",
       "</table>\n",
       "</div>"
      ],
      "text/plain": [
       "      aggrid   postdt_m rtntyp\n",
       "0   78157052 2002-02-01      D\n",
       "1  114049604 2001-09-01      D\n",
       "2  152142922 2001-10-01      D\n",
       "3   23112689 2001-12-01      D\n",
       "4  149050063 2001-11-01      D"
      ]
     },
     "execution_count": 62,
     "metadata": {},
     "output_type": "execute_result"
    }
   ],
   "source": [
    "df_daily['rtntyp'] = 'D'\n",
    "df_daily.head()"
   ]
  },
  {
   "cell_type": "code",
   "execution_count": 13,
   "metadata": {
    "collapsed": true
   },
   "outputs": [
    {
     "ename": "NameError",
     "evalue": "name 'data' is not defined",
     "output_type": "error",
     "traceback": [
      "\u001b[1;31m---------------------------------------------------------------------------\u001b[0m",
      "\u001b[1;31mNameError\u001b[0m                                 Traceback (most recent call last)",
      "\u001b[1;32m<ipython-input-13-40ab3ec45674>\u001b[0m in \u001b[0;36m<module>\u001b[1;34m()\u001b[0m\n\u001b[0;32m     14\u001b[0m \u001b[0mdf_monthly\u001b[0m \u001b[1;33m=\u001b[0m \u001b[0mdf_monthly\u001b[0m\u001b[1;33m[\u001b[0m\u001b[1;33m[\u001b[0m\u001b[1;34m'aggrid'\u001b[0m\u001b[1;33m,\u001b[0m \u001b[1;34m'postdt'\u001b[0m\u001b[1;33m,\u001b[0m \u001b[1;34m'rtntyp'\u001b[0m\u001b[1;33m,\u001b[0m \u001b[1;34m'rtntyp_values'\u001b[0m\u001b[1;33m]\u001b[0m\u001b[1;33m]\u001b[0m\u001b[1;33m\u001b[0m\u001b[0m\n\u001b[0;32m     15\u001b[0m \u001b[1;31m# Drop rows with NULL values\u001b[0m\u001b[1;33m\u001b[0m\u001b[1;33m\u001b[0m\u001b[0m\n\u001b[1;32m---> 16\u001b[1;33m \u001b[0mdata\u001b[0m \u001b[1;33m=\u001b[0m \u001b[0mdata\u001b[0m\u001b[1;33m.\u001b[0m\u001b[0mdropna\u001b[0m\u001b[1;33m(\u001b[0m\u001b[0maxis\u001b[0m\u001b[1;33m=\u001b[0m\u001b[1;36m0\u001b[0m\u001b[1;33m)\u001b[0m\u001b[1;33m\u001b[0m\u001b[0m\n\u001b[0m\u001b[0;32m     17\u001b[0m \u001b[0mprint\u001b[0m\u001b[1;33m(\u001b[0m\u001b[0mdf_monthly\u001b[0m\u001b[1;33m.\u001b[0m\u001b[0mshape\u001b[0m\u001b[1;33m)\u001b[0m\u001b[1;33m\u001b[0m\u001b[0m\n\u001b[0;32m     18\u001b[0m \u001b[0mdf_monthly\u001b[0m\u001b[1;33m.\u001b[0m\u001b[0mhead\u001b[0m\u001b[1;33m(\u001b[0m\u001b[1;33m)\u001b[0m\u001b[1;33m\u001b[0m\u001b[0m\n",
      "\u001b[1;31mNameError\u001b[0m: name 'data' is not defined"
     ]
    }
   ],
   "source": [
    "def align_values(row):\n",
    "    if row['rtntyp'] == 'M':\n",
    "        return row['totrtn1mo']\n",
    "    elif row['rtntyp'] == 'Q':\n",
    "        return row['totrtn3mo']\n",
    "    elif row['rtntyp'] == 'S':\n",
    "        return row['totrtn6mo']\n",
    "    elif row['rtntyp'] == 'A':\n",
    "        return row['totrtn12mo']\n",
    "    else:\n",
    "        return np.nan\n",
    "    \n",
    "df_monthly['rtntyp_values'] = df_monthly.apply(lambda x: align_values(x), axis=1)\n",
    "df_monthly = df_monthly[['aggrid', 'postdt', 'rtntyp', 'rtntyp_values']]\n",
    "# Drop rows with NULL values\n",
    "df_monthly = df_monthly.dropna(axis=0)\n",
    "print(df_monthly.shape)\n",
    "df_monthly.head()"
   ]
  },
  {
   "cell_type": "code",
   "execution_count": 17,
   "metadata": {},
   "outputs": [
    {
     "data": {
      "text/html": [
       "<div>\n",
       "<style>\n",
       "    .dataframe thead tr:only-child th {\n",
       "        text-align: right;\n",
       "    }\n",
       "\n",
       "    .dataframe thead th {\n",
       "        text-align: left;\n",
       "    }\n",
       "\n",
       "    .dataframe tbody tr th {\n",
       "        vertical-align: top;\n",
       "    }\n",
       "</style>\n",
       "<table border=\"1\" class=\"dataframe\">\n",
       "  <thead>\n",
       "    <tr style=\"text-align: right;\">\n",
       "      <th></th>\n",
       "      <th>aggrid</th>\n",
       "      <th>postdt</th>\n",
       "      <th>rtntyp</th>\n",
       "    </tr>\n",
       "  </thead>\n",
       "  <tbody>\n",
       "    <tr>\n",
       "      <th>976312</th>\n",
       "      <td>143035123</td>\n",
       "      <td>1998-02-27</td>\n",
       "      <td>M</td>\n",
       "    </tr>\n",
       "    <tr>\n",
       "      <th>976344</th>\n",
       "      <td>143035123</td>\n",
       "      <td>1998-03-31</td>\n",
       "      <td>M</td>\n",
       "    </tr>\n",
       "    <tr>\n",
       "      <th>976376</th>\n",
       "      <td>143035123</td>\n",
       "      <td>1998-04-30</td>\n",
       "      <td>M</td>\n",
       "    </tr>\n",
       "    <tr>\n",
       "      <th>976408</th>\n",
       "      <td>33063727</td>\n",
       "      <td>1998-05-29</td>\n",
       "      <td>M</td>\n",
       "    </tr>\n",
       "    <tr>\n",
       "      <th>976440</th>\n",
       "      <td>33063727</td>\n",
       "      <td>1998-07-31</td>\n",
       "      <td>M</td>\n",
       "    </tr>\n",
       "  </tbody>\n",
       "</table>\n",
       "</div>"
      ],
      "text/plain": [
       "           aggrid     postdt rtntyp\n",
       "976312  143035123 1998-02-27      M\n",
       "976344  143035123 1998-03-31      M\n",
       "976376  143035123 1998-04-30      M\n",
       "976408   33063727 1998-05-29      M\n",
       "976440   33063727 1998-07-31      M"
      ]
     },
     "execution_count": 17,
     "metadata": {},
     "output_type": "execute_result"
    }
   ],
   "source": [
    "df_monthly.drop(['rtntyp_values'], axis=1, inplace=True)\n",
    "df_monthly.head()"
   ]
  },
  {
   "cell_type": "code",
   "execution_count": 28,
   "metadata": {},
   "outputs": [
    {
     "name": "stdout",
     "output_type": "stream",
     "text": [
      "(11023643, 4)\n"
     ]
    },
    {
     "data": {
      "text/html": [
       "<div>\n",
       "<style>\n",
       "    .dataframe thead tr:only-child th {\n",
       "        text-align: right;\n",
       "    }\n",
       "\n",
       "    .dataframe thead th {\n",
       "        text-align: left;\n",
       "    }\n",
       "\n",
       "    .dataframe tbody tr th {\n",
       "        vertical-align: top;\n",
       "    }\n",
       "</style>\n",
       "<table border=\"1\" class=\"dataframe\">\n",
       "  <thead>\n",
       "    <tr style=\"text-align: right;\">\n",
       "      <th></th>\n",
       "      <th>aggrid</th>\n",
       "      <th>postdt</th>\n",
       "      <th>rtntyp</th>\n",
       "      <th>hier</th>\n",
       "    </tr>\n",
       "  </thead>\n",
       "  <tbody>\n",
       "    <tr>\n",
       "      <th>0</th>\n",
       "      <td>143035123</td>\n",
       "      <td>1998-02-01</td>\n",
       "      <td>M</td>\n",
       "      <td>1</td>\n",
       "    </tr>\n",
       "    <tr>\n",
       "      <th>1</th>\n",
       "      <td>143035123</td>\n",
       "      <td>1998-03-01</td>\n",
       "      <td>M</td>\n",
       "      <td>1</td>\n",
       "    </tr>\n",
       "    <tr>\n",
       "      <th>2</th>\n",
       "      <td>143035123</td>\n",
       "      <td>1998-04-01</td>\n",
       "      <td>M</td>\n",
       "      <td>1</td>\n",
       "    </tr>\n",
       "    <tr>\n",
       "      <th>3</th>\n",
       "      <td>33063727</td>\n",
       "      <td>1998-05-01</td>\n",
       "      <td>M</td>\n",
       "      <td>1</td>\n",
       "    </tr>\n",
       "    <tr>\n",
       "      <th>4</th>\n",
       "      <td>33063727</td>\n",
       "      <td>1998-07-01</td>\n",
       "      <td>M</td>\n",
       "      <td>1</td>\n",
       "    </tr>\n",
       "  </tbody>\n",
       "</table>\n",
       "</div>"
      ],
      "text/plain": [
       "      aggrid     postdt rtntyp  hier\n",
       "0  143035123 1998-02-01      M     1\n",
       "1  143035123 1998-03-01      M     1\n",
       "2  143035123 1998-04-01      M     1\n",
       "3   33063727 1998-05-01      M     1\n",
       "4   33063727 1998-07-01      M     1"
      ]
     },
     "execution_count": 28,
     "metadata": {},
     "output_type": "execute_result"
    }
   ],
   "source": [
    "#new_df = df_monthly\n",
    "new_aggrid_list = []\n",
    "new_date_list = []\n",
    "new_rtntyp_list = []\n",
    "new_hier_list = []\n",
    "\n",
    "for aggrid, postdt, rtntyp in df_monthly.itertuples(index=False):\n",
    "    if rtntyp == 'A':\n",
    "        for d in pd.date_range(end=postdt, periods=12, freq='MS'):\n",
    "            new_aggrid_list.append(aggrid)\n",
    "            new_date_list.append(d)\n",
    "            new_rtntyp_list.append(rtntyp)\n",
    "            new_hier_list.append(4)\n",
    "    if rtntyp == 'S':\n",
    "        for d in pd.date_range(end=postdt, periods=6, freq='MS'):\n",
    "            new_aggrid_list.append(aggrid)\n",
    "            new_date_list.append(d)\n",
    "            new_rtntyp_list.append(rtntyp)\n",
    "            new_hier_list.append(3)\n",
    "    if rtntyp == 'Q':\n",
    "        for d in pd.date_range(end=postdt, periods=3, freq='MS'):\n",
    "            new_aggrid_list.append(aggrid)\n",
    "            new_date_list.append(d)\n",
    "            new_rtntyp_list.append(rtntyp)\n",
    "            new_hier_list.append(2)\n",
    "    if rtntyp == 'M':\n",
    "            new_aggrid_list.append(aggrid)\n",
    "            new_date_list.append(postdt.replace(day=1))\n",
    "            new_rtntyp_list.append(rtntyp)\n",
    "            new_hier_list.append(1)\n",
    "\n",
    "df_monthly_1stm = pd.DataFrame(columns=['aggrid', 'postdt', 'rtntyp'])\n",
    "df_monthly_1stm['aggrid'] = new_aggrid_list\n",
    "df_monthly_1stm['postdt'] = new_date_list\n",
    "df_monthly_1stm['rtntyp'] = new_rtntyp_list\n",
    "df_monthly_1stm['hier'] = new_hier_list\n",
    "\n",
    "print(df_monthly_1stm.shape)\n",
    "df_monthly_1stm.head()"
   ]
  },
  {
   "cell_type": "code",
   "execution_count": 29,
   "metadata": {},
   "outputs": [
    {
     "name": "stdout",
     "output_type": "stream",
     "text": [
      "aggrid    11023248\n",
      "postdt    11023248\n",
      "rtntyp    11023248\n",
      "hier      11023248\n",
      "dtype: int64\n",
      "(11023248, 4)\n"
     ]
    },
    {
     "data": {
      "text/html": [
       "<div>\n",
       "<style>\n",
       "    .dataframe thead tr:only-child th {\n",
       "        text-align: right;\n",
       "    }\n",
       "\n",
       "    .dataframe thead th {\n",
       "        text-align: left;\n",
       "    }\n",
       "\n",
       "    .dataframe tbody tr th {\n",
       "        vertical-align: top;\n",
       "    }\n",
       "</style>\n",
       "<table border=\"1\" class=\"dataframe\">\n",
       "  <thead>\n",
       "    <tr style=\"text-align: right;\">\n",
       "      <th></th>\n",
       "      <th>aggrid</th>\n",
       "      <th>postdt</th>\n",
       "      <th>rtntyp</th>\n",
       "      <th>hier</th>\n",
       "    </tr>\n",
       "  </thead>\n",
       "  <tbody>\n",
       "    <tr>\n",
       "      <th>0</th>\n",
       "      <td>143035123</td>\n",
       "      <td>1998-02-01</td>\n",
       "      <td>M</td>\n",
       "      <td>1</td>\n",
       "    </tr>\n",
       "    <tr>\n",
       "      <th>1</th>\n",
       "      <td>143035123</td>\n",
       "      <td>1998-03-01</td>\n",
       "      <td>M</td>\n",
       "      <td>1</td>\n",
       "    </tr>\n",
       "    <tr>\n",
       "      <th>2</th>\n",
       "      <td>143035123</td>\n",
       "      <td>1998-04-01</td>\n",
       "      <td>M</td>\n",
       "      <td>1</td>\n",
       "    </tr>\n",
       "    <tr>\n",
       "      <th>3</th>\n",
       "      <td>33063727</td>\n",
       "      <td>1998-05-01</td>\n",
       "      <td>M</td>\n",
       "      <td>1</td>\n",
       "    </tr>\n",
       "    <tr>\n",
       "      <th>4</th>\n",
       "      <td>33063727</td>\n",
       "      <td>1998-07-01</td>\n",
       "      <td>M</td>\n",
       "      <td>1</td>\n",
       "    </tr>\n",
       "  </tbody>\n",
       "</table>\n",
       "</div>"
      ],
      "text/plain": [
       "      aggrid     postdt rtntyp  hier\n",
       "0  143035123 1998-02-01      M     1\n",
       "1  143035123 1998-03-01      M     1\n",
       "2  143035123 1998-04-01      M     1\n",
       "3   33063727 1998-05-01      M     1\n",
       "4   33063727 1998-07-01      M     1"
      ]
     },
     "execution_count": 29,
     "metadata": {},
     "output_type": "execute_result"
    }
   ],
   "source": [
    "#check no duplicate records\n",
    "print(df_monthly_1stm.drop_duplicates(subset=['aggrid', 'postdt'], keep='first', inplace=False).count())\n",
    "#there are a small few - remove them\n",
    "df_monthly_1stm.drop_duplicates(subset=['aggrid', 'postdt'], keep='first', inplace=True)\n",
    "print(df_monthly_1stm.shape)\n",
    "df_monthly_1stm.head()"
   ]
  },
  {
   "cell_type": "code",
   "execution_count": 63,
   "metadata": {},
   "outputs": [
    {
     "data": {
      "text/html": [
       "<div>\n",
       "<style>\n",
       "    .dataframe thead tr:only-child th {\n",
       "        text-align: right;\n",
       "    }\n",
       "\n",
       "    .dataframe thead th {\n",
       "        text-align: left;\n",
       "    }\n",
       "\n",
       "    .dataframe tbody tr th {\n",
       "        vertical-align: top;\n",
       "    }\n",
       "</style>\n",
       "<table border=\"1\" class=\"dataframe\">\n",
       "  <thead>\n",
       "    <tr style=\"text-align: right;\">\n",
       "      <th></th>\n",
       "      <th>aggrid</th>\n",
       "      <th>postdt</th>\n",
       "      <th>rtntyp</th>\n",
       "      <th>hier</th>\n",
       "    </tr>\n",
       "  </thead>\n",
       "  <tbody>\n",
       "    <tr>\n",
       "      <th>0</th>\n",
       "      <td>78157052</td>\n",
       "      <td>2002-02-01</td>\n",
       "      <td>D</td>\n",
       "      <td>0</td>\n",
       "    </tr>\n",
       "    <tr>\n",
       "      <th>1</th>\n",
       "      <td>114049604</td>\n",
       "      <td>2001-09-01</td>\n",
       "      <td>D</td>\n",
       "      <td>0</td>\n",
       "    </tr>\n",
       "    <tr>\n",
       "      <th>2</th>\n",
       "      <td>152142922</td>\n",
       "      <td>2001-10-01</td>\n",
       "      <td>D</td>\n",
       "      <td>0</td>\n",
       "    </tr>\n",
       "    <tr>\n",
       "      <th>3</th>\n",
       "      <td>23112689</td>\n",
       "      <td>2001-12-01</td>\n",
       "      <td>D</td>\n",
       "      <td>0</td>\n",
       "    </tr>\n",
       "    <tr>\n",
       "      <th>4</th>\n",
       "      <td>149050063</td>\n",
       "      <td>2001-11-01</td>\n",
       "      <td>D</td>\n",
       "      <td>0</td>\n",
       "    </tr>\n",
       "  </tbody>\n",
       "</table>\n",
       "</div>"
      ],
      "text/plain": [
       "      aggrid     postdt rtntyp  hier\n",
       "0   78157052 2002-02-01      D     0\n",
       "1  114049604 2001-09-01      D     0\n",
       "2  152142922 2001-10-01      D     0\n",
       "3   23112689 2001-12-01      D     0\n",
       "4  149050063 2001-11-01      D     0"
      ]
     },
     "execution_count": 63,
     "metadata": {},
     "output_type": "execute_result"
    }
   ],
   "source": [
    "df_daily.rename(columns={'postdt_m': 'postdt'}, inplace=True)\n",
    "df_daily['hier']=0\n",
    "df_daily.head()"
   ]
  },
  {
   "cell_type": "markdown",
   "metadata": {},
   "source": [
    "# Combine Daily and Monthly"
   ]
  },
  {
   "cell_type": "code",
   "execution_count": 64,
   "metadata": {},
   "outputs": [
    {
     "name": "stdout",
     "output_type": "stream",
     "text": [
      "(20065789, 4)\n"
     ]
    },
    {
     "data": {
      "text/html": [
       "<div>\n",
       "<style>\n",
       "    .dataframe thead tr:only-child th {\n",
       "        text-align: right;\n",
       "    }\n",
       "\n",
       "    .dataframe thead th {\n",
       "        text-align: left;\n",
       "    }\n",
       "\n",
       "    .dataframe tbody tr th {\n",
       "        vertical-align: top;\n",
       "    }\n",
       "</style>\n",
       "<table border=\"1\" class=\"dataframe\">\n",
       "  <thead>\n",
       "    <tr style=\"text-align: right;\">\n",
       "      <th></th>\n",
       "      <th>aggrid</th>\n",
       "      <th>postdt</th>\n",
       "      <th>rtntyp</th>\n",
       "      <th>hier</th>\n",
       "    </tr>\n",
       "  </thead>\n",
       "  <tbody>\n",
       "    <tr>\n",
       "      <th>0</th>\n",
       "      <td>143035123</td>\n",
       "      <td>1998-02-01</td>\n",
       "      <td>M</td>\n",
       "      <td>1</td>\n",
       "    </tr>\n",
       "    <tr>\n",
       "      <th>1</th>\n",
       "      <td>143035123</td>\n",
       "      <td>1998-03-01</td>\n",
       "      <td>M</td>\n",
       "      <td>1</td>\n",
       "    </tr>\n",
       "    <tr>\n",
       "      <th>2</th>\n",
       "      <td>143035123</td>\n",
       "      <td>1998-04-01</td>\n",
       "      <td>M</td>\n",
       "      <td>1</td>\n",
       "    </tr>\n",
       "    <tr>\n",
       "      <th>3</th>\n",
       "      <td>33063727</td>\n",
       "      <td>1998-05-01</td>\n",
       "      <td>M</td>\n",
       "      <td>1</td>\n",
       "    </tr>\n",
       "    <tr>\n",
       "      <th>4</th>\n",
       "      <td>33063727</td>\n",
       "      <td>1998-07-01</td>\n",
       "      <td>M</td>\n",
       "      <td>1</td>\n",
       "    </tr>\n",
       "  </tbody>\n",
       "</table>\n",
       "</div>"
      ],
      "text/plain": [
       "      aggrid     postdt rtntyp  hier\n",
       "0  143035123 1998-02-01      M     1\n",
       "1  143035123 1998-03-01      M     1\n",
       "2  143035123 1998-04-01      M     1\n",
       "3   33063727 1998-05-01      M     1\n",
       "4   33063727 1998-07-01      M     1"
      ]
     },
     "execution_count": 64,
     "metadata": {},
     "output_type": "execute_result"
    }
   ],
   "source": [
    "df_combo = df_monthly_1stm.append(df_daily, ignore_index=True)\n",
    "print(df_combo.shape)\n",
    "df_combo.head()"
   ]
  },
  {
   "cell_type": "code",
   "execution_count": 65,
   "metadata": {},
   "outputs": [
    {
     "name": "stdout",
     "output_type": "stream",
     "text": [
      "(11109250, 3)\n",
      "(11109250, 3)\n"
     ]
    },
    {
     "data": {
      "text/html": [
       "<div>\n",
       "<style>\n",
       "    .dataframe thead tr:only-child th {\n",
       "        text-align: right;\n",
       "    }\n",
       "\n",
       "    .dataframe thead th {\n",
       "        text-align: left;\n",
       "    }\n",
       "\n",
       "    .dataframe tbody tr th {\n",
       "        vertical-align: top;\n",
       "    }\n",
       "</style>\n",
       "<table border=\"1\" class=\"dataframe\">\n",
       "  <thead>\n",
       "    <tr style=\"text-align: right;\">\n",
       "      <th></th>\n",
       "      <th>aggrid</th>\n",
       "      <th>postdt</th>\n",
       "      <th>rtntyp</th>\n",
       "    </tr>\n",
       "  </thead>\n",
       "  <tbody>\n",
       "    <tr>\n",
       "      <th>0</th>\n",
       "      <td>10600</td>\n",
       "      <td>1975-01-01</td>\n",
       "      <td>A</td>\n",
       "    </tr>\n",
       "    <tr>\n",
       "      <th>1</th>\n",
       "      <td>10600</td>\n",
       "      <td>1975-02-01</td>\n",
       "      <td>A</td>\n",
       "    </tr>\n",
       "    <tr>\n",
       "      <th>2</th>\n",
       "      <td>10600</td>\n",
       "      <td>1975-03-01</td>\n",
       "      <td>A</td>\n",
       "    </tr>\n",
       "    <tr>\n",
       "      <th>3</th>\n",
       "      <td>10600</td>\n",
       "      <td>1975-04-01</td>\n",
       "      <td>A</td>\n",
       "    </tr>\n",
       "    <tr>\n",
       "      <th>4</th>\n",
       "      <td>10600</td>\n",
       "      <td>1975-05-01</td>\n",
       "      <td>A</td>\n",
       "    </tr>\n",
       "  </tbody>\n",
       "</table>\n",
       "</div>"
      ],
      "text/plain": [
       "   aggrid     postdt rtntyp\n",
       "0   10600 1975-01-01      A\n",
       "1   10600 1975-02-01      A\n",
       "2   10600 1975-03-01      A\n",
       "3   10600 1975-04-01      A\n",
       "4   10600 1975-05-01      A"
      ]
     },
     "execution_count": 65,
     "metadata": {},
     "output_type": "execute_result"
    }
   ],
   "source": [
    "df_left = df_combo.groupby(['aggrid', 'postdt'])['hier'].min().reset_index()\n",
    "print(df_left.shape)\n",
    "\n",
    "df_final = df_left.merge(df_combo, left_on=['aggrid', 'postdt', 'hier'], right_on=['aggrid', 'postdt', 'hier'], how='left')\n",
    "\n",
    "df_final.drop(['hier'], axis=1, inplace=True)\n",
    "print(df_final.shape)\n",
    "df_final.head()"
   ]
  },
  {
   "cell_type": "code",
   "execution_count": 66,
   "metadata": {},
   "outputs": [
    {
     "name": "stdout",
     "output_type": "stream",
     "text": [
      "(2363, 3)\n"
     ]
    },
    {
     "data": {
      "text/html": [
       "<div>\n",
       "<style>\n",
       "    .dataframe thead tr:only-child th {\n",
       "        text-align: right;\n",
       "    }\n",
       "\n",
       "    .dataframe thead th {\n",
       "        text-align: left;\n",
       "    }\n",
       "\n",
       "    .dataframe tbody tr th {\n",
       "        vertical-align: top;\n",
       "    }\n",
       "</style>\n",
       "<table border=\"1\" class=\"dataframe\">\n",
       "  <thead>\n",
       "    <tr style=\"text-align: right;\">\n",
       "      <th></th>\n",
       "      <th>postdt</th>\n",
       "      <th>rtntyp</th>\n",
       "      <th>aggrid_cnt</th>\n",
       "    </tr>\n",
       "  </thead>\n",
       "  <tbody>\n",
       "    <tr>\n",
       "      <th>0</th>\n",
       "      <td>1934-01-01</td>\n",
       "      <td>M</td>\n",
       "      <td>4</td>\n",
       "    </tr>\n",
       "    <tr>\n",
       "      <th>1</th>\n",
       "      <td>1934-02-01</td>\n",
       "      <td>M</td>\n",
       "      <td>4</td>\n",
       "    </tr>\n",
       "    <tr>\n",
       "      <th>2</th>\n",
       "      <td>1934-03-01</td>\n",
       "      <td>M</td>\n",
       "      <td>4</td>\n",
       "    </tr>\n",
       "    <tr>\n",
       "      <th>3</th>\n",
       "      <td>1934-04-01</td>\n",
       "      <td>M</td>\n",
       "      <td>4</td>\n",
       "    </tr>\n",
       "    <tr>\n",
       "      <th>4</th>\n",
       "      <td>1934-05-01</td>\n",
       "      <td>M</td>\n",
       "      <td>4</td>\n",
       "    </tr>\n",
       "  </tbody>\n",
       "</table>\n",
       "</div>"
      ],
      "text/plain": [
       "      postdt rtntyp  aggrid_cnt\n",
       "0 1934-01-01      M           4\n",
       "1 1934-02-01      M           4\n",
       "2 1934-03-01      M           4\n",
       "3 1934-04-01      M           4\n",
       "4 1934-05-01      M           4"
      ]
     },
     "execution_count": 66,
     "metadata": {},
     "output_type": "execute_result"
    }
   ],
   "source": [
    "df_summary_out = df_final.groupby(['postdt','rtntyp'])['aggrid'].count().reset_index()\n",
    "df_summary_out.rename(columns={'aggrid': 'aggrid_cnt'}, inplace=True)\n",
    "print(df_summary_out.shape)\n",
    "df_summary_out.head()"
   ]
  },
  {
   "cell_type": "code",
   "execution_count": 67,
   "metadata": {
    "collapsed": true
   },
   "outputs": [],
   "source": [
    "#output the summarized version\n",
    "df_summary_out.to_csv('1_1_PF_HIST_Daily_n_Monthly_summary.csv')"
   ]
  },
  {
   "cell_type": "code",
   "execution_count": null,
   "metadata": {
    "collapsed": true
   },
   "outputs": [],
   "source": []
  },
  {
   "cell_type": "code",
   "execution_count": null,
   "metadata": {
    "collapsed": true
   },
   "outputs": [],
   "source": []
  }
 ],
 "metadata": {
  "kernelspec": {
   "display_name": "Python 3",
   "language": "python",
   "name": "python3"
  },
  "language_info": {
   "codemirror_mode": {
    "name": "ipython",
    "version": 3
   },
   "file_extension": ".py",
   "mimetype": "text/x-python",
   "name": "python",
   "nbconvert_exporter": "python",
   "pygments_lexer": "ipython3",
   "version": "3.6.1"
  }
 },
 "nbformat": 4,
 "nbformat_minor": 2
}
