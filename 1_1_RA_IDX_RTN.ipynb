{
 "cells": [
  {
   "cell_type": "code",
   "execution_count": 1,
   "metadata": {
    "collapsed": true
   },
   "outputs": [],
   "source": [
    "import os\n",
    "import pyodbc\n",
    "import numpy as np\n",
    "import pandas as pd\n",
    "import seaborn as sns\n",
    "from datetime import datetime\n",
    "import matplotlib.pyplot as plt\n",
    "%matplotlib inline"
   ]
  },
  {
   "cell_type": "code",
   "execution_count": 2,
   "metadata": {
    "collapsed": true
   },
   "outputs": [],
   "source": [
    "cnxn = pyodbc.connect('Driver={SQL Server Native Client 11.0};\\\n",
    "                       Server=lasr-sqldb-prd-im,17001;\\\n",
    "                       Database=IM_S_FAMIS_S;\\\n",
    "                       Trusted_Connection=yes;')"
   ]
  },
  {
   "cell_type": "code",
   "execution_count": 3,
   "metadata": {
    "collapsed": true
   },
   "outputs": [],
   "source": [
    "sql_query = \"\"\"\n",
    "select\n",
    "RAPORTFOLIOID,\n",
    "RTNPERIODENDDT,\n",
    "RTNPERIODTYPCD,\n",
    "RATETBLCD\n",
    "from IM_I_IDWBRRADM_S.dbo.RA_IDX_RTN\n",
    "where RATETBLCD = 'CG'\n",
    "\"\"\"\n",
    "\n",
    "# Save the data \n",
    "data = pd.read_sql(sql_query, cnxn)\n",
    "\n",
    "# Close the connection with LASR\n",
    "cnxn.close()"
   ]
  },
  {
   "cell_type": "code",
   "execution_count": 4,
   "metadata": {},
   "outputs": [
    {
     "name": "stdout",
     "output_type": "stream",
     "text": [
      "(11367226, 4)\n"
     ]
    },
    {
     "data": {
      "text/html": [
       "<div>\n",
       "<style>\n",
       "    .dataframe thead tr:only-child th {\n",
       "        text-align: right;\n",
       "    }\n",
       "\n",
       "    .dataframe thead th {\n",
       "        text-align: left;\n",
       "    }\n",
       "\n",
       "    .dataframe tbody tr th {\n",
       "        vertical-align: top;\n",
       "    }\n",
       "</style>\n",
       "<table border=\"1\" class=\"dataframe\">\n",
       "  <thead>\n",
       "    <tr style=\"text-align: right;\">\n",
       "      <th></th>\n",
       "      <th>RAPORTFOLIOID</th>\n",
       "      <th>RTNPERIODENDDT</th>\n",
       "      <th>RTNPERIODTYPCD</th>\n",
       "      <th>RATETBLCD</th>\n",
       "    </tr>\n",
       "  </thead>\n",
       "  <tbody>\n",
       "    <tr>\n",
       "      <th>0</th>\n",
       "      <td>286398</td>\n",
       "      <td>2007-08-31</td>\n",
       "      <td>LIFE</td>\n",
       "      <td>CG</td>\n",
       "    </tr>\n",
       "    <tr>\n",
       "      <th>1</th>\n",
       "      <td>280112</td>\n",
       "      <td>2004-08-31</td>\n",
       "      <td>LIFE</td>\n",
       "      <td>CG</td>\n",
       "    </tr>\n",
       "    <tr>\n",
       "      <th>2</th>\n",
       "      <td>286467</td>\n",
       "      <td>1997-06-30</td>\n",
       "      <td>LIFEPRD</td>\n",
       "      <td>CG</td>\n",
       "    </tr>\n",
       "    <tr>\n",
       "      <th>3</th>\n",
       "      <td>288437</td>\n",
       "      <td>2014-06-30</td>\n",
       "      <td>1MO</td>\n",
       "      <td>CG</td>\n",
       "    </tr>\n",
       "    <tr>\n",
       "      <th>4</th>\n",
       "      <td>289901</td>\n",
       "      <td>2017-01-31</td>\n",
       "      <td>LIFE</td>\n",
       "      <td>CG</td>\n",
       "    </tr>\n",
       "  </tbody>\n",
       "</table>\n",
       "</div>"
      ],
      "text/plain": [
       "   RAPORTFOLIOID RTNPERIODENDDT RTNPERIODTYPCD RATETBLCD\n",
       "0         286398     2007-08-31           LIFE        CG\n",
       "1         280112     2004-08-31           LIFE        CG\n",
       "2         286467     1997-06-30        LIFEPRD        CG\n",
       "3         288437     2014-06-30            1MO        CG\n",
       "4         289901     2017-01-31           LIFE        CG"
      ]
     },
     "execution_count": 4,
     "metadata": {},
     "output_type": "execute_result"
    }
   ],
   "source": [
    "print(data.shape)\n",
    "data.head()"
   ]
  },
  {
   "cell_type": "code",
   "execution_count": 5,
   "metadata": {},
   "outputs": [
    {
     "data": {
      "text/html": [
       "<div>\n",
       "<style>\n",
       "    .dataframe thead tr:only-child th {\n",
       "        text-align: right;\n",
       "    }\n",
       "\n",
       "    .dataframe thead th {\n",
       "        text-align: left;\n",
       "    }\n",
       "\n",
       "    .dataframe tbody tr th {\n",
       "        vertical-align: top;\n",
       "    }\n",
       "</style>\n",
       "<table border=\"1\" class=\"dataframe\">\n",
       "  <thead>\n",
       "    <tr style=\"text-align: right;\">\n",
       "      <th></th>\n",
       "      <th>RAPORTFOLIOID</th>\n",
       "      <th>RTNPERIODENDDT</th>\n",
       "      <th>RTNPERIODTYPCD</th>\n",
       "      <th>RATETBLCD</th>\n",
       "      <th>postdt_new</th>\n",
       "    </tr>\n",
       "  </thead>\n",
       "  <tbody>\n",
       "    <tr>\n",
       "      <th>0</th>\n",
       "      <td>286398</td>\n",
       "      <td>2007-08-31</td>\n",
       "      <td>LIFE</td>\n",
       "      <td>CG</td>\n",
       "      <td>2007-08-01</td>\n",
       "    </tr>\n",
       "    <tr>\n",
       "      <th>1</th>\n",
       "      <td>280112</td>\n",
       "      <td>2004-08-31</td>\n",
       "      <td>LIFE</td>\n",
       "      <td>CG</td>\n",
       "      <td>2004-08-01</td>\n",
       "    </tr>\n",
       "    <tr>\n",
       "      <th>2</th>\n",
       "      <td>286467</td>\n",
       "      <td>1997-06-30</td>\n",
       "      <td>LIFEPRD</td>\n",
       "      <td>CG</td>\n",
       "      <td>1997-06-01</td>\n",
       "    </tr>\n",
       "    <tr>\n",
       "      <th>3</th>\n",
       "      <td>288437</td>\n",
       "      <td>2014-06-30</td>\n",
       "      <td>1MO</td>\n",
       "      <td>CG</td>\n",
       "      <td>2014-06-01</td>\n",
       "    </tr>\n",
       "    <tr>\n",
       "      <th>4</th>\n",
       "      <td>289901</td>\n",
       "      <td>2017-01-31</td>\n",
       "      <td>LIFE</td>\n",
       "      <td>CG</td>\n",
       "      <td>2017-01-01</td>\n",
       "    </tr>\n",
       "  </tbody>\n",
       "</table>\n",
       "</div>"
      ],
      "text/plain": [
       "   RAPORTFOLIOID RTNPERIODENDDT RTNPERIODTYPCD RATETBLCD postdt_new\n",
       "0         286398     2007-08-31           LIFE        CG 2007-08-01\n",
       "1         280112     2004-08-31           LIFE        CG 2004-08-01\n",
       "2         286467     1997-06-30        LIFEPRD        CG 1997-06-01\n",
       "3         288437     2014-06-30            1MO        CG 2014-06-01\n",
       "4         289901     2017-01-31           LIFE        CG 2017-01-01"
      ]
     },
     "execution_count": 5,
     "metadata": {},
     "output_type": "execute_result"
    }
   ],
   "source": [
    "data['postdt_new'] = data['RTNPERIODENDDT'].apply(lambda dt: dt.replace(day=1))\n",
    "data.head()"
   ]
  },
  {
   "cell_type": "code",
   "execution_count": 6,
   "metadata": {},
   "outputs": [
    {
     "name": "stdout",
     "output_type": "stream",
     "text": [
      "RAPORTFOLIOID     11367226\n",
      "RTNPERIODENDDT    11367226\n",
      "RTNPERIODTYPCD    11367226\n",
      "RATETBLCD         11367226\n",
      "postdt_new        11367226\n",
      "dtype: int64\n"
     ]
    }
   ],
   "source": [
    "#check no duplicate records\n",
    "print(data.drop_duplicates(subset=['RAPORTFOLIOID', 'postdt_new', 'RTNPERIODTYPCD'], keep='first', inplace=False).count())"
   ]
  },
  {
   "cell_type": "code",
   "execution_count": 7,
   "metadata": {},
   "outputs": [
    {
     "name": "stdout",
     "output_type": "stream",
     "text": [
      "(22114, 3)\n"
     ]
    },
    {
     "data": {
      "text/html": [
       "<div>\n",
       "<style>\n",
       "    .dataframe thead tr:only-child th {\n",
       "        text-align: right;\n",
       "    }\n",
       "\n",
       "    .dataframe thead th {\n",
       "        text-align: left;\n",
       "    }\n",
       "\n",
       "    .dataframe tbody tr th {\n",
       "        vertical-align: top;\n",
       "    }\n",
       "</style>\n",
       "<table border=\"1\" class=\"dataframe\">\n",
       "  <thead>\n",
       "    <tr style=\"text-align: right;\">\n",
       "      <th></th>\n",
       "      <th>postdt_new</th>\n",
       "      <th>RTNPERIODTYPCD</th>\n",
       "      <th>RAPORTFOLIOID</th>\n",
       "    </tr>\n",
       "  </thead>\n",
       "  <tbody>\n",
       "    <tr>\n",
       "      <th>0</th>\n",
       "      <td>1912-12-01</td>\n",
       "      <td>LIFE</td>\n",
       "      <td>1</td>\n",
       "    </tr>\n",
       "    <tr>\n",
       "      <th>1</th>\n",
       "      <td>1912-12-01</td>\n",
       "      <td>LIFEPRD</td>\n",
       "      <td>1</td>\n",
       "    </tr>\n",
       "    <tr>\n",
       "      <th>2</th>\n",
       "      <td>1913-01-01</td>\n",
       "      <td>1MO</td>\n",
       "      <td>1</td>\n",
       "    </tr>\n",
       "    <tr>\n",
       "      <th>3</th>\n",
       "      <td>1913-01-01</td>\n",
       "      <td>LIFE</td>\n",
       "      <td>1</td>\n",
       "    </tr>\n",
       "    <tr>\n",
       "      <th>4</th>\n",
       "      <td>1913-01-01</td>\n",
       "      <td>LIFEPRD</td>\n",
       "      <td>1</td>\n",
       "    </tr>\n",
       "  </tbody>\n",
       "</table>\n",
       "</div>"
      ],
      "text/plain": [
       "  postdt_new RTNPERIODTYPCD  RAPORTFOLIOID\n",
       "0 1912-12-01           LIFE              1\n",
       "1 1912-12-01        LIFEPRD              1\n",
       "2 1913-01-01            1MO              1\n",
       "3 1913-01-01           LIFE              1\n",
       "4 1913-01-01        LIFEPRD              1"
      ]
     },
     "execution_count": 7,
     "metadata": {},
     "output_type": "execute_result"
    }
   ],
   "source": [
    "df_final = data.groupby(['postdt_new', 'RTNPERIODTYPCD'])['RAPORTFOLIOID'].count().reset_index()\n",
    "print(df_final.shape)\n",
    "df_final.head()"
   ]
  },
  {
   "cell_type": "code",
   "execution_count": 8,
   "metadata": {},
   "outputs": [
    {
     "data": {
      "text/html": [
       "<div>\n",
       "<style>\n",
       "    .dataframe thead tr:only-child th {\n",
       "        text-align: right;\n",
       "    }\n",
       "\n",
       "    .dataframe thead th {\n",
       "        text-align: left;\n",
       "    }\n",
       "\n",
       "    .dataframe tbody tr th {\n",
       "        vertical-align: top;\n",
       "    }\n",
       "</style>\n",
       "<table border=\"1\" class=\"dataframe\">\n",
       "  <thead>\n",
       "    <tr style=\"text-align: right;\">\n",
       "      <th></th>\n",
       "      <th>postdt_new</th>\n",
       "      <th>RTNPERIODTYPCD</th>\n",
       "      <th>RAPortfolioID_Cnt</th>\n",
       "    </tr>\n",
       "  </thead>\n",
       "  <tbody>\n",
       "    <tr>\n",
       "      <th>0</th>\n",
       "      <td>1912-12-01</td>\n",
       "      <td>LIFE</td>\n",
       "      <td>1</td>\n",
       "    </tr>\n",
       "    <tr>\n",
       "      <th>1</th>\n",
       "      <td>1912-12-01</td>\n",
       "      <td>LIFEPRD</td>\n",
       "      <td>1</td>\n",
       "    </tr>\n",
       "    <tr>\n",
       "      <th>2</th>\n",
       "      <td>1913-01-01</td>\n",
       "      <td>1MO</td>\n",
       "      <td>1</td>\n",
       "    </tr>\n",
       "    <tr>\n",
       "      <th>3</th>\n",
       "      <td>1913-01-01</td>\n",
       "      <td>LIFE</td>\n",
       "      <td>1</td>\n",
       "    </tr>\n",
       "    <tr>\n",
       "      <th>4</th>\n",
       "      <td>1913-01-01</td>\n",
       "      <td>LIFEPRD</td>\n",
       "      <td>1</td>\n",
       "    </tr>\n",
       "  </tbody>\n",
       "</table>\n",
       "</div>"
      ],
      "text/plain": [
       "  postdt_new RTNPERIODTYPCD  RAPortfolioID_Cnt\n",
       "0 1912-12-01           LIFE                  1\n",
       "1 1912-12-01        LIFEPRD                  1\n",
       "2 1913-01-01            1MO                  1\n",
       "3 1913-01-01           LIFE                  1\n",
       "4 1913-01-01        LIFEPRD                  1"
      ]
     },
     "execution_count": 8,
     "metadata": {},
     "output_type": "execute_result"
    }
   ],
   "source": [
    "df_final.rename(columns={'RAPORTFOLIOID':'RAPortfolioID_Cnt'}, inplace=True)\n",
    "df_final.head()"
   ]
  },
  {
   "cell_type": "code",
   "execution_count": 9,
   "metadata": {
    "collapsed": true
   },
   "outputs": [],
   "source": [
    "df_final.to_csv('summary_RA_IDX_RTN.csv')"
   ]
  },
  {
   "cell_type": "code",
   "execution_count": null,
   "metadata": {
    "collapsed": true
   },
   "outputs": [],
   "source": []
  }
 ],
 "metadata": {
  "kernelspec": {
   "display_name": "Python 3",
   "language": "python",
   "name": "python3"
  },
  "language_info": {
   "codemirror_mode": {
    "name": "ipython",
    "version": 3
   },
   "file_extension": ".py",
   "mimetype": "text/x-python",
   "name": "python",
   "nbconvert_exporter": "python",
   "pygments_lexer": "ipython3",
   "version": "3.6.1"
  }
 },
 "nbformat": 4,
 "nbformat_minor": 2
}
