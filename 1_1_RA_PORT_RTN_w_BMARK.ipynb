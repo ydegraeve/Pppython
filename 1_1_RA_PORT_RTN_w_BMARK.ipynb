{
 "cells": [
  {
   "cell_type": "code",
   "execution_count": 1,
   "metadata": {
    "collapsed": true
   },
   "outputs": [],
   "source": [
    "import os\n",
    "import pyodbc\n",
    "import numpy as np\n",
    "import pandas as pd\n",
    "import seaborn as sns\n",
    "from datetime import datetime\n",
    "import matplotlib.pyplot as plt\n",
    "%matplotlib inline"
   ]
  },
  {
   "cell_type": "code",
   "execution_count": 2,
   "metadata": {
    "collapsed": true
   },
   "outputs": [],
   "source": [
    "cnxn = pyodbc.connect('Driver={SQL Server Native Client 11.0};\\\n",
    "                       Server=lasr-sqldb-prd-im,17001;\\\n",
    "                       Database=IM_I_IDWBRRADM_S;\\\n",
    "                       Trusted_Connection=yes;')"
   ]
  },
  {
   "cell_type": "code",
   "execution_count": 3,
   "metadata": {},
   "outputs": [
    {
     "name": "stdout",
     "output_type": "stream",
     "text": [
      "(5833023, 3)\n"
     ]
    },
    {
     "data": {
      "text/html": [
       "<div>\n",
       "<style>\n",
       "    .dataframe thead tr:only-child th {\n",
       "        text-align: right;\n",
       "    }\n",
       "\n",
       "    .dataframe thead th {\n",
       "        text-align: left;\n",
       "    }\n",
       "\n",
       "    .dataframe tbody tr th {\n",
       "        vertical-align: top;\n",
       "    }\n",
       "</style>\n",
       "<table border=\"1\" class=\"dataframe\">\n",
       "  <thead>\n",
       "    <tr style=\"text-align: right;\">\n",
       "      <th></th>\n",
       "      <th>RAPORTFOLIOID</th>\n",
       "      <th>postdt</th>\n",
       "      <th>RTNPERIODTYPCD</th>\n",
       "    </tr>\n",
       "  </thead>\n",
       "  <tbody>\n",
       "    <tr>\n",
       "      <th>0</th>\n",
       "      <td>201589</td>\n",
       "      <td>1990-12-31</td>\n",
       "      <td>3MO</td>\n",
       "    </tr>\n",
       "    <tr>\n",
       "      <th>1</th>\n",
       "      <td>48056</td>\n",
       "      <td>2005-11-30</td>\n",
       "      <td>1MO</td>\n",
       "    </tr>\n",
       "    <tr>\n",
       "      <th>2</th>\n",
       "      <td>124740</td>\n",
       "      <td>1998-10-30</td>\n",
       "      <td>1MO</td>\n",
       "    </tr>\n",
       "    <tr>\n",
       "      <th>3</th>\n",
       "      <td>155800</td>\n",
       "      <td>2004-08-31</td>\n",
       "      <td>1MO</td>\n",
       "    </tr>\n",
       "    <tr>\n",
       "      <th>4</th>\n",
       "      <td>215213</td>\n",
       "      <td>1993-10-29</td>\n",
       "      <td>12MO</td>\n",
       "    </tr>\n",
       "  </tbody>\n",
       "</table>\n",
       "</div>"
      ],
      "text/plain": [
       "   RAPORTFOLIOID     postdt RTNPERIODTYPCD\n",
       "0         201589 1990-12-31            3MO\n",
       "1          48056 2005-11-30            1MO\n",
       "2         124740 1998-10-30            1MO\n",
       "3         155800 2004-08-31            1MO\n",
       "4         215213 1993-10-29           12MO"
      ]
     },
     "execution_count": 3,
     "metadata": {},
     "output_type": "execute_result"
    }
   ],
   "source": [
    "sql_query_port = \"\"\"\n",
    "select\n",
    "A.RAPORTFOLIOID,\n",
    "A.postdt,\n",
    "A.RTNPERIODTYPCD\n",
    "from\n",
    "(\n",
    "select\n",
    "RAPORTFOLIOID,\n",
    "RTNPERIODENDDT as postdt,\n",
    "RTNPERIODTYPCD,\n",
    "RAMARKETCYCLEID\n",
    "from IM_I_IDWBRRADM_S.dbo.RA_PORT_RTN\n",
    "where CRNCYUID = 1 and RTNPCT is not NULL\n",
    "  and RTNPERIODTYPCD IN ('1MO','3MO','6MO','12MO')\n",
    ") as A\n",
    "  inner join\n",
    "(\n",
    "select\n",
    "RAPORTFOLIOID,\n",
    "RTNPERIODENDDT as postdt,\n",
    "RTNPERIODTYPCD,\n",
    "max(RAMARKETCYCLEID) as max_cycle\n",
    "from IM_I_IDWBRRADM_S.dbo.RA_PORT_RTN\n",
    "where CRNCYUID = 1 and RTNPCT is not NULL\n",
    "group by RAPORTFOLIOID,RTNPERIODENDDT,RTNPERIODTYPCD\n",
    ") as B\n",
    "on A.RAPORTFOLIOID=B.RAPORTFOLIOID and A.postdt=B.postdt and A.RTNPERIODTYPCD=B.RTNPERIODTYPCD and A.RAMARKETCYCLEID=B.max_cycle\n",
    "\"\"\"\n",
    "\n",
    "# Save the data\n",
    "df_port = pd.read_sql(sql_query_port, cnxn)\n",
    "    \n",
    "print(df_port.shape)\n",
    "df_port.head()"
   ]
  },
  {
   "cell_type": "code",
   "execution_count": 4,
   "metadata": {},
   "outputs": [
    {
     "name": "stdout",
     "output_type": "stream",
     "text": [
      "(11171376, 6)\n"
     ]
    },
    {
     "data": {
      "text/html": [
       "<div>\n",
       "<style>\n",
       "    .dataframe thead tr:only-child th {\n",
       "        text-align: right;\n",
       "    }\n",
       "\n",
       "    .dataframe thead th {\n",
       "        text-align: left;\n",
       "    }\n",
       "\n",
       "    .dataframe tbody tr th {\n",
       "        vertical-align: top;\n",
       "    }\n",
       "</style>\n",
       "<table border=\"1\" class=\"dataframe\">\n",
       "  <thead>\n",
       "    <tr style=\"text-align: right;\">\n",
       "      <th></th>\n",
       "      <th>RAPORTFOLIOID</th>\n",
       "      <th>RAPORTBENCHMARKID</th>\n",
       "      <th>STARTDT</th>\n",
       "      <th>ENDDT</th>\n",
       "      <th>RTNPERIODENDDT</th>\n",
       "      <th>RTNPERIODTYPCD</th>\n",
       "    </tr>\n",
       "  </thead>\n",
       "  <tbody>\n",
       "    <tr>\n",
       "      <th>0</th>\n",
       "      <td>30430</td>\n",
       "      <td>181277</td>\n",
       "      <td>2009-11-30</td>\n",
       "      <td>9999-12-31 00:00:00</td>\n",
       "      <td>2016-10-31</td>\n",
       "      <td>6MO</td>\n",
       "    </tr>\n",
       "    <tr>\n",
       "      <th>1</th>\n",
       "      <td>300964</td>\n",
       "      <td>179417</td>\n",
       "      <td>1900-01-01</td>\n",
       "      <td>9999-12-31 00:00:00</td>\n",
       "      <td>2001-08-31</td>\n",
       "      <td>3MO</td>\n",
       "    </tr>\n",
       "    <tr>\n",
       "      <th>2</th>\n",
       "      <td>182806</td>\n",
       "      <td>4754</td>\n",
       "      <td>2001-08-31</td>\n",
       "      <td>2006-03-31 00:00:00</td>\n",
       "      <td>2005-01-31</td>\n",
       "      <td>6MO</td>\n",
       "    </tr>\n",
       "    <tr>\n",
       "      <th>3</th>\n",
       "      <td>219327</td>\n",
       "      <td>26812</td>\n",
       "      <td>1966-12-30</td>\n",
       "      <td>9999-12-31 00:00:00</td>\n",
       "      <td>1998-12-31</td>\n",
       "      <td>1MO</td>\n",
       "    </tr>\n",
       "    <tr>\n",
       "      <th>4</th>\n",
       "      <td>127346</td>\n",
       "      <td>181190</td>\n",
       "      <td>2007-10-31</td>\n",
       "      <td>9999-12-31 00:00:00</td>\n",
       "      <td>2017-04-28</td>\n",
       "      <td>3MO</td>\n",
       "    </tr>\n",
       "  </tbody>\n",
       "</table>\n",
       "</div>"
      ],
      "text/plain": [
       "   RAPORTFOLIOID  RAPORTBENCHMARKID    STARTDT                ENDDT  \\\n",
       "0          30430             181277 2009-11-30  9999-12-31 00:00:00   \n",
       "1         300964             179417 1900-01-01  9999-12-31 00:00:00   \n",
       "2         182806               4754 2001-08-31  2006-03-31 00:00:00   \n",
       "3         219327              26812 1966-12-30  9999-12-31 00:00:00   \n",
       "4         127346             181190 2007-10-31  9999-12-31 00:00:00   \n",
       "\n",
       "  RTNPERIODENDDT RTNPERIODTYPCD  \n",
       "0     2016-10-31            6MO  \n",
       "1     2001-08-31            3MO  \n",
       "2     2005-01-31            6MO  \n",
       "3     1998-12-31            1MO  \n",
       "4     2017-04-28            3MO  "
      ]
     },
     "execution_count": 4,
     "metadata": {},
     "output_type": "execute_result"
    }
   ],
   "source": [
    "sql_query_bmk = \"\"\"\n",
    "select\n",
    "VWB.RAPORTFOLIOID,\n",
    "VWB.RAPORTBENCHMARKID,\n",
    "VWB.STARTDT,\n",
    "VWB.ENDDT,\n",
    "BMK.RTNPERIODENDDT,\n",
    "BMK.RTNPERIODTYPCD\n",
    "from\n",
    "  (\n",
    "\tselect\n",
    "\tVBMK.RAPORTFOLIOID,\n",
    "\tVBMK.RAPORTBENCHMARKID,\n",
    "\tBCMP.STARTDT,\n",
    "\tBCMP.ENDDT\n",
    "\tfrom IM_M_RADM_S.dbo.vwRaPortBenchmark as VBMK\n",
    "\t  left join \n",
    "\t\t IM_I_IDWBRRADM_S.dbo.RA_PORT_BMRK_COMPONENT as BCMP\n",
    "\t  on VBMK.RAPORTBENCHMARKID = BCMP.RAPORTBENCHMARKID\n",
    "  ) as VWB\n",
    "  left join\n",
    "  (\n",
    "\tselect\n",
    "\tA.raportbenchmarkid,\n",
    "\tA.RTNPERIODENDDT,\n",
    "\tA.RTNPERIODTYPCD\n",
    "\tfrom IM_I_IDWBRRADM_S.dbo.RA_BMRK_RTN as A\n",
    "\t  inner join\n",
    "\t\t  (\n",
    "\t\t  select\n",
    "\t\t  raportbenchmarkid,\n",
    "\t\t  RTNPERIODENDDT,\n",
    "\t\t  RTNPERIODTYPCD,\n",
    "\t\t  max(RAMARKETCYCLEID) as max_RAMARKETCYCLEID\n",
    "\t\t  from IM_I_IDWBRRADM_S.dbo.RA_BMRK_RTN\n",
    "\t\t  where crncyuid = 1 and rtnpct is not null\n",
    "\t\t  group by raportbenchmarkid, RTNPERIODENDDT, RTNPERIODTYPCD\n",
    "\t\t  ) as B\n",
    "\t  on A.raportbenchmarkid=B.raportbenchmarkid and A.RTNPERIODENDDT=B.RTNPERIODENDDT and A.RTNPERIODTYPCD=B.RTNPERIODTYPCD and A.RAMARKETCYCLEID=B.max_RAMARKETCYCLEID\n",
    "\t\t and A.crncyuid=1 and A.rtnpct is not NULL\n",
    "  ) as BMK\n",
    "on BMK.raportbenchmarkid=VWB.raportbenchmarkid and BMK.RTNPERIODENDDT between VWB.STARTDT and VWB.ENDDT\n",
    "where BMK.RTNPERIODTYPCD IN ('1MO','3MO','6MO','12MO') and VWB.STARTDT is not NULL and VWB.ENDDT is not NULL and BMK.RTNPERIODENDDT is not NULL\n",
    "\"\"\"\n",
    "\n",
    "# Save the data\n",
    "df_bmk = pd.read_sql(sql_query_bmk, cnxn)\n",
    "#close connection\n",
    "cnxn.close()\n",
    "    \n",
    "print(df_bmk.shape)\n",
    "df_bmk.head()"
   ]
  },
  {
   "cell_type": "code",
   "execution_count": null,
   "metadata": {
    "collapsed": true
   },
   "outputs": [],
   "source": []
  },
  {
   "cell_type": "markdown",
   "metadata": {},
   "source": [
    "# Munge the data"
   ]
  },
  {
   "cell_type": "code",
   "execution_count": null,
   "metadata": {
    "collapsed": true
   },
   "outputs": [],
   "source": [
    "def assign_hier(var1):\n",
    "    if var1 == '1MO':\n",
    "        return 1\n",
    "    elif var1 == '3MO':\n",
    "        return 2\n",
    "    elif var1 == '6MO':\n",
    "        return 3\n",
    "    elif var1 == '12MO':\n",
    "        return 4\n",
    "    else:\n",
    "        return 5\n",
    "\n",
    "df_port['hier'] = df_port['RTNPERIODTYPCD'].apply(lambda x: assign_hier(x))\n",
    "df_port['postdt_new'] = df_port['postdt'].apply(lambda x: x.replace(day=1))\n",
    "df_bmk['hier'] = df_bmk['RTNPERIODTYPCD'].apply(lambda x: assign_hier(x))\n",
    "df_bmk['postdt_new'] = df_bmk['RTNPERIODENDDT'].apply(lambda x: x.replace(day=1))"
   ]
  },
  {
   "cell_type": "code",
   "execution_count": null,
   "metadata": {},
   "outputs": [],
   "source": [
    "print(df_port.head())\n",
    "print(df_bmk.head())"
   ]
  },
  {
   "cell_type": "code",
   "execution_count": null,
   "metadata": {},
   "outputs": [],
   "source": [
    "#this confirms there are no duplicate combinations in port\n",
    "print(df_port.drop_duplicates(subset=['RAPORTFOLIOID', 'postdt_new', 'RTNPERIODTYPCD'], keep='first', inplace=False).count())\n",
    "#this confirms there are no duplicate combinations in bmk\n",
    "print(df_bmk.drop_duplicates(subset=['RAPORTFOLIOID', 'raportbenchmarkid', 'postdt_new', 'RTNPERIODTYPCD'], keep='first', inplace=False).count())"
   ]
  },
  {
   "cell_type": "code",
   "execution_count": null,
   "metadata": {},
   "outputs": [],
   "source": [
    "df_bmk.raportbenchmarkid.unique().shape\n",
    "\n",
    "#print(df_bmk.drop_duplicates(subset=['RAPORTFOLIOID', 'raportbenchmarkid', 'postdt_new', 'RTNPERIODTYPCD'], keep='first', inplace=False).count())"
   ]
  },
  {
   "cell_type": "code",
   "execution_count": null,
   "metadata": {
    "collapsed": true
   },
   "outputs": [],
   "source": []
  },
  {
   "cell_type": "code",
   "execution_count": null,
   "metadata": {},
   "outputs": [],
   "source": [
    "test1 = df_port[(df_port['postdt_new'] == '12-01-1963')]\n",
    "test1"
   ]
  },
  {
   "cell_type": "code",
   "execution_count": null,
   "metadata": {},
   "outputs": [],
   "source": [
    "test2 = df_bmk[df_bmk['postdt_new'] == '12-01-1963']\n",
    "test2"
   ]
  },
  {
   "cell_type": "markdown",
   "metadata": {},
   "source": [
    "# get the least granularity for each raportfolio/postdt_new combination, in each dataset"
   ]
  },
  {
   "cell_type": "code",
   "execution_count": null,
   "metadata": {},
   "outputs": [],
   "source": [
    "df_port_min = df_port.groupby(['RAPORTFOLIOID', 'postdt_new'])['hier'].min().reset_index()\n",
    "print(df_port_min.shape)\n",
    "df_port_min.head()"
   ]
  },
  {
   "cell_type": "code",
   "execution_count": null,
   "metadata": {},
   "outputs": [],
   "source": [
    "df_bmk_min = df_bmk.groupby(['RAPORTFOLIOID','raportbenchmarkid', 'postdt_new'])['hier'].min().reset_index()\n",
    "print(df_bmk_min.shape)\n",
    "df_bmk_min.head()"
   ]
  },
  {
   "cell_type": "markdown",
   "metadata": {},
   "source": [
    "# Combine And Take Max"
   ]
  },
  {
   "cell_type": "code",
   "execution_count": null,
   "metadata": {},
   "outputs": [],
   "source": [
    "df_combo = df_port_min.append(df_bmk_min, ignore_index=True)\n",
    "print(df_combo.shape)\n",
    "df_combo.head()"
   ]
  },
  {
   "cell_type": "code",
   "execution_count": null,
   "metadata": {},
   "outputs": [],
   "source": [
    "df_combo_max = df_combo.groupby(['RAPORTFOLIOID','postdt_new'])['hier'].max().reset_index()\n",
    "print(df_combo_max.shape)\n",
    "df_combo_max.head()"
   ]
  },
  {
   "cell_type": "code",
   "execution_count": null,
   "metadata": {},
   "outputs": [],
   "source": [
    "df_final = df_combo_max.groupby(['postdt_new', 'hier'])['RAPORTFOLIOID'].count().reset_index()\n",
    "print(df_final.shape)\n",
    "df_final.head()"
   ]
  },
  {
   "cell_type": "code",
   "execution_count": null,
   "metadata": {
    "collapsed": true
   },
   "outputs": [],
   "source": [
    "#output the summarized version\n",
    "df_final.to_csv('1_1_RA_PORT_RTN_w_BMK.csv')"
   ]
  },
  {
   "cell_type": "code",
   "execution_count": null,
   "metadata": {
    "collapsed": true
   },
   "outputs": [],
   "source": []
  }
 ],
 "metadata": {
  "kernelspec": {
   "display_name": "Python 3",
   "language": "python",
   "name": "python3"
  },
  "language_info": {
   "codemirror_mode": {
    "name": "ipython",
    "version": 3
   },
   "file_extension": ".py",
   "mimetype": "text/x-python",
   "name": "python",
   "nbconvert_exporter": "python",
   "pygments_lexer": "ipython3",
   "version": "3.6.1"
  }
 },
 "nbformat": 4,
 "nbformat_minor": 2
}
